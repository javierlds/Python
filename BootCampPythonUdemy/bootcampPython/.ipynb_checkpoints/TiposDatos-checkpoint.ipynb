{
 "cells": [
  {
   "cell_type": "code",
   "execution_count": null,
   "id": "76addc9a",
   "metadata": {},
   "outputs": [],
   "source": [
    "# TIPOS DE DATOS\n",
    "'''\n",
    "Integers - int\n",
    "Floating Point - float\n",
    "Strings - str\n",
    "Lists - list\n",
    "Dictionaries - dict\n",
    "Tuples - tup\n",
    "Sets - set\n",
    "Booleans - bool\n",
    "'''"
   ]
  },
  {
   "cell_type": "code",
   "execution_count": 4,
   "id": "1e9aced6",
   "metadata": {},
   "outputs": [
    {
     "name": "stdout",
     "output_type": "stream",
     "text": [
      "Alumno Juan\n",
      "{'nombre': 'Juan', 'edad': 21, 'carrera': 'Ingenieria de sistemas', 'promedio': 9.5}\n",
      "Alumno nueva edad: {'nombre': 'Juan', 'edad': 45, 'carrera': 'Ingenieria de sistemas', 'promedio': 9.5}\n",
      "{'nombre': 'Juan', 'edad': 45, 'carrera': 'Ingenieria de sistemas'}\n"
     ]
    }
   ],
   "source": [
    "# Diccionarios\n",
    "mi_diccionario = []\n",
    "\n",
    "#Crear diccionario con pares clave-valor\n",
    "alumno = {\n",
    "    \"nombre\": \"Juan\",\n",
    "    \"edad\":21,\n",
    "    \"carrera\": \"Ingenieria de sistemas\"    \n",
    "}\n",
    "\n",
    "#Acceder a valores mediante clave\n",
    "print(\"Alumno\",alumno[\"nombre\"])\n",
    "\n",
    "#Agregar nuevo par valor\n",
    "alumno[\"promedio\"] = 9.5\n",
    "print(alumno)\n",
    "\n",
    "#Modificar un valor existente\n",
    "alumno[\"edad\"] =45\n",
    "print(\"Alumno nueva edad:\", alumno)\n",
    "\n",
    "#Eliminar par valor\n",
    "del alumno[\"promedio\"]\n",
    "print(alumno)"
   ]
  }
 ],
 "metadata": {
  "kernelspec": {
   "display_name": "Python 3 (ipykernel)",
   "language": "python",
   "name": "python3"
  },
  "language_info": {
   "codemirror_mode": {
    "name": "ipython",
    "version": 3
   },
   "file_extension": ".py",
   "mimetype": "text/x-python",
   "name": "python",
   "nbconvert_exporter": "python",
   "pygments_lexer": "ipython3",
   "version": "3.11.5"
  }
 },
 "nbformat": 4,
 "nbformat_minor": 5
}
