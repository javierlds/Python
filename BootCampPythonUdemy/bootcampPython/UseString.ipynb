{
 "cells": [
  {
   "cell_type": "code",
   "execution_count": 10,
   "id": "72fdced0",
   "metadata": {},
   "outputs": [
    {
     "name": "stdout",
     "output_type": "stream",
     "text": [
      "{'a': 0, 'e': 0, 'i': 0, 'o': 0, 'u': 0}\n"
     ]
    }
   ],
   "source": [
    "vowels = {x:0 for x in['a','e','i','o','u']}\n",
    "name = 'javier augusto paez cruz'\n",
    "print(vowels)"
   ]
  },
  {
   "cell_type": "code",
   "execution_count": 1,
   "id": "78a9e84d",
   "metadata": {},
   "outputs": [
    {
     "data": {
      "text/plain": [
       "'hello world two'"
      ]
     },
     "execution_count": 1,
     "metadata": {},
     "output_type": "execute_result"
    }
   ],
   "source": [
    "\"hello world one\"\n",
    "\"hello world two\""
   ]
  },
  {
   "cell_type": "code",
   "execution_count": 2,
   "id": "2f4c0c22",
   "metadata": {},
   "outputs": [
    {
     "name": "stdout",
     "output_type": "stream",
     "text": [
      "hello \n",
      "world\n"
     ]
    }
   ],
   "source": [
    "#use \\n  => new line\n",
    "print('hello \\nworld')\n"
   ]
  },
  {
   "cell_type": "code",
   "execution_count": 3,
   "id": "478fce6f",
   "metadata": {},
   "outputs": [
    {
     "name": "stdout",
     "output_type": "stream",
     "text": [
      "hello \tworld\n"
     ]
    }
   ],
   "source": [
    "#use \\t   => tab\n",
    "print('hello \\tworld')"
   ]
  },
  {
   "cell_type": "code",
   "execution_count": 4,
   "id": "d81a0362",
   "metadata": {},
   "outputs": [
    {
     "data": {
      "text/plain": [
       "5"
      ]
     },
     "execution_count": 4,
     "metadata": {},
     "output_type": "execute_result"
    }
   ],
   "source": [
    "# Length of string\n",
    "len('hello')"
   ]
  },
  {
   "cell_type": "code",
   "execution_count": 8,
   "id": "301276e2",
   "metadata": {},
   "outputs": [
    {
     "name": "stdout",
     "output_type": "stream",
     "text": [
      "h\n",
      "e\n",
      "l\n",
      "l\n",
      "o\n",
      " \n",
      "w\n",
      "o\n",
      "r\n",
      "l\n",
      "d\n"
     ]
    }
   ],
   "source": [
    "#Indexing\n",
    "mystring = \"hello world\"\n",
    "mystring[6]\n",
    "mystring[-2]\n",
    "for text in mystring:\n",
    "    print(text)"
   ]
  },
  {
   "cell_type": "code",
   "execution_count": 15,
   "id": "17439746",
   "metadata": {},
   "outputs": [
    {
     "name": "stdout",
     "output_type": "stream",
     "text": [
      "Enter textjavier\n",
      "Noticias de hoy en Colombia y el mundo. Última hora | Noticias | EL ESPECTADOR\n",
      "No te pierdas ningún acontecimiento, accede a nuestras notificaciones\n",
      "No, gracias\n",
      "Noticias\n",
      "Opinión\n",
      "Suscriptores\n",
      "Estilo de vida\n",
      "Marcas EE\n",
      "EE Play\n",
      "Newsletters\n",
      "Servicios\n",
      "Más\n",
      "Contenido Patrocinado\n",
      "Suscriptor\n",
      "¡Solo tú tienes este beneficio!\n",
      "Usa las nuevas funciones con IA en El Espectador.\n",
      "¡Conócelas aquí!\n",
      "Últimas Noticias\n",
      "Política\n",
      "Congreso a la mano\n",
      "Judicial\n",
      "Economía\n",
      "Finanzas personales\n",
      "Macroeconomía\n",
      "Empresas\n",
      "Emprendimiento y Liderazgo\n",
      "Mundo\n",
      "Venezuela\n",
      "América\n",
      "Europa\n",
      "Más países\n",
      "Bogotá\n",
      "Entretenimiento\n",
      "Música\n",
      "Cine y TV\n",
      "Gente\n",
      "Horóscopo\n",
      "Tarot de Mavé\n",
      "Deportes\n",
      "Fútbol Colombiano\n",
      "Millonarios\n",
      "Santa Fe\n",
      "América de Cali\n",
      "Atlético Nacional\n",
      "Júnior\n",
      "Otros equipos\n",
      "Selección Colombia\n",
      "Fútbol mundial\n",
      "Ciclismo\n",
      "Más deportes\n",
      "Analistas\n",
      "Colombia\n",
      "Más regiones\n",
      "Medellín\n",
      "Cali\n",
      "Barranquilla\n",
      "Cartagena\n",
      "Cundinamarca\n",
      "El Magazín Cultural\n",
      "La suma de las voces\n",
      "Salud\n",
      "Ambiente\n",
      "Ruta a la COP16\n",
      "BIBO\n",
      "Fascículos BIBO\n",
      "Premio BIBO\n",
      "Encuentros por el Agua\n",
      "Amazonas\n",
      "Blog El Río\n",
      "Investigación\n",
      "Educación\n",
      "Ciencia\n",
      "Género y Diversidad\n",
      "La Disidencia\n",
      "Las Igualadas\n",
      "Tecnología\n",
      "Gadgets y Apps\n",
      "Videojuegos\n",
      "Actualidad\n",
      "Reportajes\n",
      "Historias visuales\n",
      "Colecciones\n",
      "Podcast\n",
      "Novedad\n",
      "Cromos\n",
      "Tendencias\n",
      "Sexualidad\n",
      "Maternidad\n",
      "Vida sana\n",
      "Moda\n",
      "Famosos y vida social\n",
      "Astrología\n",
      "Novedad\n",
      "Vea\n",
      "Lo último\n",
      "Famosos\n",
      "Realeza\n",
      "Películas, series y novelas\n",
      "Cocina\n",
      "Los astros y las estrellas\n",
      "Términos y condiciones\n",
      "Política de privacidad\n",
      "Elespectador.com: Últimas noticias de Colombia y el mundo\n",
      "Últimas Noticias\n",
      "Opinión\n",
      "Política\n",
      "Judicial\n",
      "Economía\n",
      "Mundo\n",
      "Bogotá\n",
      "Deportes\n",
      "Colombia + 20\n",
      "Cromos\n",
      "Vea\n",
      "Feb. 18 - 2025\n",
      "Últimas Noticias\n",
      "Opinión\n",
      "Política\n",
      "Judicial\n",
      "Economía\n",
      "Mundo\n",
      "Bogotá\n",
      "Deportes\n",
      "Colombia + 20\n",
      "Cromos\n",
      "Vea\n",
      "Publicidad\n",
      "Suscriptores\n",
      "Judicial\n",
      "Chocó: un territorio sitiado por la guerra entre grupos armados\n",
      "11:50 p. m.\n",
      "Suscriptores\n",
      "Macroeconomía\n",
      "Los puntos claves para entender cómo le fue a la economía en 2024\n",
      "12:03 a. m.\n",
      "Judicial\n",
      "Magistrado del Tribunal de Bogotá se declaró impedido para estudiar tutela de Uribe\n",
      "11:43 p. m.\n",
      "Suscriptores\n",
      "Política\n",
      "Progresismo busca atajar divisiones internas del gabinete para promover un frente amplio\n",
      "11:25 p. m.\n",
      "Política\n",
      "“El Congreso se hace respetar”: legisladores a Petro por anuncio de exponer sus votos\n",
      "12:36 a. m.\n",
      "Newsletters\n",
      "Newsletter informativo - Lunes a viernes\n",
      "El Despertador\n",
      "Empieza el día con las noticias más importantes de nuestro periódico.\n",
      "Inscribirme\n",
      "¡PARA!\n",
      "Esta es tu señal para\n",
      "conocer las predicciones\n",
      "del día y la semana, o empezar a resolver\n",
      "nuestros crucigramas gratis\n",
      ".\n",
      "Haz clic para ver Astrología y Pasatiempos\n",
      "Especiales\n",
      "Ir al contenido\n",
      "Lo más leído\n",
      "Lo más visto\n",
      "Los contenidos top del día\n",
      "Fotos El Espectador\n",
      "Más deportes\n",
      "Galería de la Maratón del Mar 2025: mujeres y el amor a las carreras\n",
      "16-02-2025\n",
      "Pedro Mendoza C\n",
      "Entretenimiento\n",
      "Tarot de Mavé de la semana\n",
      "16-02-2025\n",
      "Mavé\n",
      "Millonarios\n",
      "Así se vivió la derrota de Millonarios en El Campín a manos del Medellín\n",
      "16-02-2025\n",
      "Redacción Deportes\n",
      "Europa\n",
      "El mundo no es como lo pintan: Santorini, la isla que los temblores están vaciando\n",
      "15-02-2025\n",
      "Redacción Internacional\n",
      "Astrología y pasatiempos\n",
      "Lectura del tarot, horóscopo, cartas, pasatiempos y más.\n",
      "—ㅤ01\n",
      "Horóscopo de hoy\n",
      "Explorar más\n",
      "—ㅤ02\n",
      "Tarot de la semana\n",
      "Explorar más\n",
      "—ㅤ03\n",
      "Pasatiempos\n",
      "Explorar más\n",
      "Mapa del Sitio\n",
      "Suscripción Impresa\n",
      "Suscripción Digital\n",
      "Chatea con nosotros\n",
      "Red de Portales\n",
      "Centro de Ayuda\n",
      "Políticas de privacidad\n",
      "Términos y condiciones\n",
      "Responsabilidad Corporativa\n",
      "Noticias de Famosos en Caracol TV\n",
      "Noticias del Mundo Noticias Caracol\n",
      "Gol Caracol Noticias de Fútbol\n",
      "Noticias de Bogotá en Blu\n",
      "Shock: música y cultura pop\n",
      "Noticias de farándula en La Kalle\n",
      "HJCK: Noticias de cultura\n",
      "Todo sobre gaming en Volk Games\n",
      "Series y Telenovelas Caracol Play\n",
      "Caracol Next\n",
      "Caracol Corporativo\n",
      "Caracol Internacional\n",
      "Todos los Derechos Reservados D.R.A. Prohibida su reproducción total o parcial, así como su traducción a cualquier idioma sin la autorización escrita de su titular.\n",
      "Línea de atención\n",
      ": (601) 423 2300.\n",
      "Dirección\n",
      ": calle 103 No 69B-43 Código Postal: 111121. Reproduction in whole or in part is prohibited. All rights reserved copyright ©\n",
      "2025\n",
      ". Si tienes una rectificación o aclaración sobre algún tema publicado en este medio, por favor escríbenos a:\n",
      "aclaracionesyrectificaciones@elespectador.com\n",
      "Miembros de:\n",
      "Este portal es propiedad de Comunican S.A. y utiliza cookies. Si continúas navegando, consideramos que aceptas su uso, de acuerdo con esta\n",
      "política.\n",
      "Aceptar\n"
     ]
    },
    {
     "ename": "NameError",
     "evalue": "name 'a' is not defined",
     "output_type": "error",
     "traceback": [
      "\u001b[1;31m---------------------------------------------------------------------------\u001b[0m",
      "\u001b[1;31mNameError\u001b[0m                                 Traceback (most recent call last)",
      "Cell \u001b[1;32mIn[15], line 45\u001b[0m\n\u001b[0;32m     43\u001b[0m \u001b[38;5;28;01mif\u001b[39;00m \u001b[38;5;18m__name__\u001b[39m \u001b[38;5;241m==\u001b[39m \u001b[38;5;124m'\u001b[39m\u001b[38;5;124m__main__\u001b[39m\u001b[38;5;124m'\u001b[39m:\n\u001b[0;32m     44\u001b[0m     text \u001b[38;5;241m=\u001b[39m \u001b[38;5;28minput\u001b[39m(\u001b[38;5;124m\"\u001b[39m\u001b[38;5;124mEnter text\u001b[39m\u001b[38;5;124m\"\u001b[39m)\n\u001b[1;32m---> 45\u001b[0m     lecturaPagina()\n",
      "Cell \u001b[1;32mIn[15], line 35\u001b[0m, in \u001b[0;36mlecturaPagina\u001b[1;34m()\u001b[0m\n\u001b[0;32m     33\u001b[0m     text \u001b[38;5;241m=\u001b[39m soup\u001b[38;5;241m.\u001b[39mget_text(separator\u001b[38;5;241m=\u001b[39m\u001b[38;5;124m\"\u001b[39m\u001b[38;5;130;01m\\n\u001b[39;00m\u001b[38;5;124m\"\u001b[39m,strip \u001b[38;5;241m=\u001b[39m \u001b[38;5;28;01mTrue\u001b[39;00m) \n\u001b[0;32m     34\u001b[0m     \u001b[38;5;28mprint\u001b[39m(text)\n\u001b[1;32m---> 35\u001b[0m     countVowels(text)\n\u001b[0;32m     36\u001b[0m \u001b[38;5;28;01melse\u001b[39;00m:\n\u001b[0;32m     37\u001b[0m     \u001b[38;5;28mprint\u001b[39m(\u001b[38;5;124mf\u001b[39m\u001b[38;5;124m\"\u001b[39m\u001b[38;5;124mError: \u001b[39m\u001b[38;5;132;01m{\u001b[39;00mresponse\u001b[38;5;241m.\u001b[39mstatus_code\u001b[38;5;132;01m}\u001b[39;00m\u001b[38;5;124m\"\u001b[39m)\n",
      "Cell \u001b[1;32mIn[15], line 17\u001b[0m, in \u001b[0;36mcountVowels\u001b[1;34m(text)\u001b[0m\n\u001b[0;32m     15\u001b[0m \u001b[38;5;28;01mfor\u001b[39;00m i \u001b[38;5;129;01min\u001b[39;00m text:\n\u001b[0;32m     16\u001b[0m     \u001b[38;5;28;01mif\u001b[39;00m i \u001b[38;5;129;01min\u001b[39;00m vowels:\n\u001b[1;32m---> 17\u001b[0m         dictVowels \u001b[38;5;241m=\u001b[39m {i, i\u001b[38;5;241m+\u001b[39ma}\n\u001b[0;32m     19\u001b[0m \u001b[38;5;28mprint\u001b[39m(dictVowels)\n",
      "\u001b[1;31mNameError\u001b[0m: name 'a' is not defined"
     ]
    }
   ],
   "source": [
    "#program that counts vowels from page\n",
    "''' \n",
    "get_text => en beatufulsoup elimina todas las etiquetas HTML\n",
    "            Devuelve solo el texto visible de la pagina\n",
    "            separator=\"\\n\" => añade un salto de linea entre bloques de text\n",
    "            strip = True Elimina espacios extra al principio y al final de cada linea\n",
    "\n",
    "'''\n",
    "\n",
    "from bs4 import BeautifulSoup\n",
    "import requests\n",
    "\n",
    "def countVowels(text):\n",
    "    vowels = ['a','e','i','o','u']\n",
    "    for i in text:\n",
    "        if i in vowels:\n",
    "            dictVowels = {i, i+a}\n",
    "    \n",
    "    print(dictVowels)\n",
    "        \n",
    "    \n",
    "    \n",
    "\n",
    "def lecturaPagina():\n",
    "    url = \"https://www.elespectador.com/\"\n",
    "    response = requests.get(url)\n",
    "\n",
    "    if response.status_code == 200: # verifica si la solicitud fue exitosa\n",
    "        soup = BeautifulSoup(response.text,\"html.parser\")\n",
    "        #print(response.text) #imprime el html de la pagina\n",
    "        \n",
    "        #Extraer solo el texto sin etiquetas\n",
    "        text = soup.get_text(separator=\"\\n\",strip = True) \n",
    "        print(text)\n",
    "        countVowels(text)\n",
    "    else:\n",
    "        print(f\"Error: {response.status_code}\")\n",
    "        \n",
    "\n",
    "\n",
    "        \n",
    "  \n",
    "if __name__ == '__main__':\n",
    "    text = input(\"Enter text\")\n",
    "    lecturaPagina()\n",
    "    \n",
    "    \n",
    "    \n"
   ]
  },
  {
   "cell_type": "code",
   "execution_count": 20,
   "id": "f5a253bb",
   "metadata": {},
   "outputs": [
    {
     "name": "stdout",
     "output_type": "stream",
     "text": [
      "{1, 'u'}\n"
     ]
    }
   ],
   "source": [
    "text = 'javier augusto paez cruz'\n",
    "vowels = ['a','e','i','o','u']\n",
    "val = 0\n",
    "for i in text:\n",
    "    if i in vowels:\n",
    "        dictVowels = {i, (val+1)}\n",
    "    \n",
    "print(dictVowels)"
   ]
  }
 ],
 "metadata": {
  "kernelspec": {
   "display_name": "Python 3 (ipykernel)",
   "language": "python",
   "name": "python3"
  },
  "language_info": {
   "codemirror_mode": {
    "name": "ipython",
    "version": 3
   },
   "file_extension": ".py",
   "mimetype": "text/x-python",
   "name": "python",
   "nbconvert_exporter": "python",
   "pygments_lexer": "ipython3",
   "version": "3.11.5"
  }
 },
 "nbformat": 4,
 "nbformat_minor": 5
}
