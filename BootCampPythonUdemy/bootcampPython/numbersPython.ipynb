{
 "cells": [
  {
   "cell_type": "code",
   "execution_count": 1,
   "id": "17547243",
   "metadata": {},
   "outputs": [
    {
     "data": {
      "text/plain": [
       "0.5"
      ]
     },
     "execution_count": 1,
     "metadata": {},
     "output_type": "execute_result"
    }
   ],
   "source": [
    "#basic \n",
    "1/2"
   ]
  },
  {
   "cell_type": "code",
   "execution_count": 36,
   "id": "26fa4516",
   "metadata": {},
   "outputs": [
    {
     "name": "stdout",
     "output_type": "stream",
     "text": [
      "\n",
      "        Select menu option:\n",
      "        1. Sum\n",
      "        2. Subtraction\n",
      "        3. Multiplication\n",
      "        4. Division\n",
      "        5. Determine if number is even or Odd 5\n",
      "Enter a number:6\n",
      " The number is Even \n"
     ]
    }
   ],
   "source": [
    "# basic operations\n",
    "def menu():\n",
    "    try:\n",
    "        menu = int(input('''\n",
    "        Select menu option:\n",
    "        1. Sum\n",
    "        2. Subtraction\n",
    "        3. Multiplication\n",
    "        4. Division\n",
    "        5. Determine if number is even or Odd '''))\n",
    "        return menu\n",
    "    except ValueError:\n",
    "        print(\"Debe indicar un numero.\")\n",
    "            \n",
    "    \n",
    "\n",
    "def operationSum(num1,num2):\n",
    "    resultSum = num1 + num2\n",
    "    return resultSum\n",
    "    \n",
    "def operationSubtraction(num1,num2):\n",
    "    resultSub = num1 - num2\n",
    "    return resultSub\n",
    "    \n",
    "def operationMultiplication(num1,num2):\n",
    "    resultMult = num1 * num2\n",
    "    return resultMult    \n",
    "\n",
    "def operationDivision(num1,num2):\n",
    "    resultDiv = num1 / num2\n",
    "    return resultDiv\n",
    "\n",
    "def operationIsEven(num): #es par\n",
    "    if num % 2 ==1:\n",
    "        resultOdd = \"The number is Odd\"\n",
    "    else:\n",
    "        resultOdd = \"The number is Even\"\n",
    "    return resultOdd\n",
    "    \n",
    "operations = {\n",
    "    1: [\"sum\", operationSum],\n",
    "    2: [\"Subtraction\", operationSubtraction],\n",
    "    3: [\"Multiplicationum\", operationMultiplication],\n",
    "    4: [\"Division\", operationDivision],\n",
    "    5: [\"Even/odd\", operationIsEven]}\n",
    "    \n",
    "if __name__ == \"__main__\":\n",
    "    try:\n",
    "        selectMenu = menu()\n",
    "            \n",
    "        if selectMenu in [1,2,3,4]:\n",
    "            text = operations[selectMenu][0]\n",
    "            number1 = int(input(\"Enter a number1:\"))\n",
    "            number2 = int(input(\"Enter a number2:\"))\n",
    "            result = operations[selectMenu][1](number1,number2)\n",
    "            print(f'The result of {text} is {result}')\n",
    "        else:\n",
    "            text = operations[selectMenu][0]\n",
    "            number1 = int(input(\"Enter a number:\"))\n",
    "            result = operations[selectMenu][1](number1)\n",
    "            print(f' {result} ')\n",
    "        \n",
    "    except ValueError:\n",
    "        print(\"Error, you must enter a number.\")   \n",
    "    "
   ]
  },
  {
   "cell_type": "code",
   "execution_count": null,
   "id": "137b6f38",
   "metadata": {},
   "outputs": [],
   "source": [
    "# Codigo optimizado:\n",
    "# basic operations\n",
    "def menu():\n",
    "    try:\n",
    "        menu = int(input('''\n",
    "        Select menu option:\n",
    "        1. Sum\n",
    "        2. Subtraction\n",
    "        3. Multiplication\n",
    "        4. Division\n",
    "        5. Determine if number is even or Odd '''))\n",
    "        return menu\n",
    "    except ValueError:\n",
    "        print(\"Debe indicar un numero.\")\n",
    "        \n",
    "def listOperations():\n",
    "    operations = {1:'+',\n",
    "                  2:'-',\n",
    "                  3:'*',\n",
    "                  4:'/'}\n",
    "        \n",
    "   \n",
    "            \n",
    "def(operation, *args):\n",
    "    resultSum = num1 + num2\n",
    "    return resultSum\n",
    "\n",
    "\n",
    "def operationIsEven(num): #es par\n",
    "    if num % 2 ==1:\n",
    "        resultOdd = \"The number is Odd\"\n",
    "    else:\n",
    "        resultOdd = \"The number is Even\"\n",
    "    return resultOdd\n",
    "    \n",
    "operations = {\n",
    "    1: [\"sum\", operationSum],\n",
    "    2: [\"Subtraction\", operationSubtraction],\n",
    "    3: [\"Multiplicationum\", operationMultiplication],\n",
    "    4: [\"Division\", operationDivision],\n",
    "    5: [\"Even/odd\", operationIsEven]}\n",
    "    \n",
    "if __name__ == \"__main__\":\n",
    "    try:\n",
    "        selectMenu = menu()\n",
    "            \n",
    "        if selectMenu in [1,2,3,4]:\n",
    "            text = operations[selectMenu][0]\n",
    "            number1 = int(input(\"Enter a number1:\"))\n",
    "            number2 = int(input(\"Enter a number2:\"))\n",
    "            result = operations[selectMenu][1](number1,number2)\n",
    "            print(f'The result of {text} is {result}')\n",
    "        else:\n",
    "            text = operations[selectMenu][0]\n",
    "            number1 = int(input(\"Enter a number:\"))\n",
    "            result = operations[selectMenu][1](number1)\n",
    "            print(f' {result} ')\n",
    "        \n",
    "    except ValueError:\n",
    "        print(\"Error, you must enter a number.\")   \n",
    "    "
   ]
  },
  {
   "cell_type": "code",
   "execution_count": 33,
   "id": "849828ea",
   "metadata": {},
   "outputs": [
    {
     "name": "stdout",
     "output_type": "stream",
     "text": [
      "<class 'str'>\n",
      "sum\n"
     ]
    }
   ],
   "source": [
    "#Diccionario en python que contiene listas\n",
    "\n",
    "operations = {\n",
    "    1: [\"sum\", operationSum],\n",
    "    2: [\"Subtraction\", operationSubtraction],\n",
    "    3: [\"Multiplicationum\", operationMultiplication],\n",
    "    4: [\"Division\", operationDivision],\n",
    "    5: [\"Even/odd\", operationIsEven]}\n",
    "\n",
    "\n",
    "print(type(operations[1][0]))\n",
    "print(operations[1][0])"
   ]
  }
 ],
 "metadata": {
  "kernelspec": {
   "display_name": "Python 3 (ipykernel)",
   "language": "python",
   "name": "python3"
  },
  "language_info": {
   "codemirror_mode": {
    "name": "ipython",
    "version": 3
   },
   "file_extension": ".py",
   "mimetype": "text/x-python",
   "name": "python",
   "nbconvert_exporter": "python",
   "pygments_lexer": "ipython3",
   "version": "3.11.5"
  }
 },
 "nbformat": 4,
 "nbformat_minor": 5
}
