{
 "cells": [
  {
   "cell_type": "code",
   "execution_count": 9,
   "id": "823a1e72",
   "metadata": {},
   "outputs": [
    {
     "name": "stdout",
     "output_type": "stream",
     "text": [
      "Requirement already satisfied: flask in c:\\users\\jpaez\\appdata\\local\\anaconda3\\lib\\site-packages (2.2.2)Note: you may need to restart the kernel to use updated packages.\n",
      "\n",
      "Requirement already satisfied: Werkzeug>=2.2.2 in c:\\users\\jpaez\\appdata\\local\\anaconda3\\lib\\site-packages (from flask) (2.2.3)\n",
      "Requirement already satisfied: Jinja2>=3.0 in c:\\users\\jpaez\\appdata\\local\\anaconda3\\lib\\site-packages (from flask) (3.1.2)\n",
      "Requirement already satisfied: itsdangerous>=2.0 in c:\\users\\jpaez\\appdata\\local\\anaconda3\\lib\\site-packages (from flask) (2.0.1)\n",
      "Requirement already satisfied: click>=8.0 in c:\\users\\jpaez\\appdata\\local\\anaconda3\\lib\\site-packages (from flask) (8.0.4)\n",
      "Requirement already satisfied: colorama in c:\\users\\jpaez\\appdata\\local\\anaconda3\\lib\\site-packages (from click>=8.0->flask) (0.4.6)\n",
      "Requirement already satisfied: MarkupSafe>=2.0 in c:\\users\\jpaez\\appdata\\local\\anaconda3\\lib\\site-packages (from Jinja2>=3.0->flask) (2.1.1)\n"
     ]
    }
   ],
   "source": [
    "pip install flask\n"
   ]
  },
  {
   "cell_type": "code",
   "execution_count": null,
   "id": "971a825d",
   "metadata": {},
   "outputs": [],
   "source": [
    "\n",
    "# Tipos de datos \n",
    "''' \n",
    "TIPOS DE DATOS: int, float, str, bool, list, tuple, dict, set\n",
    "ENTRADA Y SALIDA:  input() , print()\n",
    "OPERADORES BASICOS:  + - * / // % **\n",
    "'''\n"
   ]
  },
  {
   "cell_type": "code",
   "execution_count": 8,
   "id": "f8dfb2eb",
   "metadata": {},
   "outputs": [
    {
     "name": "stdout",
     "output_type": "stream",
     "text": [
      "Ingresa tu nombrejavier\n",
      "Ingresa tu edad36\n",
      "Ingresa tu altura1.75\n",
      "Hola, me llamo javier, tengo 36 años y mido 1.75mts \n",
      "Desea ingresar mas datosn\n"
     ]
    },
    {
     "ename": "AttributeError",
     "evalue": "'str' object has no attribute 'stript'",
     "output_type": "error",
     "traceback": [
      "\u001b[1;31m---------------------------------------------------------------------------\u001b[0m",
      "\u001b[1;31mAttributeError\u001b[0m                            Traceback (most recent call last)",
      "Cell \u001b[1;32mIn[8], line 17\u001b[0m\n\u001b[0;32m     15\u001b[0m \u001b[38;5;28;01mwhile\u001b[39;00m \u001b[38;5;28;01mTrue\u001b[39;00m:\n\u001b[0;32m     16\u001b[0m     ingresaDatos()\n\u001b[1;32m---> 17\u001b[0m     masRegistros \u001b[38;5;241m=\u001b[39m \u001b[38;5;28minput\u001b[39m(\u001b[38;5;124m\"\u001b[39m\u001b[38;5;124mDesea ingresar mas datos\u001b[39m\u001b[38;5;124m\"\u001b[39m)\u001b[38;5;241m.\u001b[39mstript()\u001b[38;5;241m.\u001b[39mlower()\n\u001b[0;32m     18\u001b[0m     \u001b[38;5;28;01mif\u001b[39;00m masRegistros \u001b[38;5;241m==\u001b[39m \u001b[38;5;124m'\u001b[39m\u001b[38;5;124ms\u001b[39m\u001b[38;5;124m'\u001b[39m:\n\u001b[0;32m     19\u001b[0m         \u001b[38;5;28;01mFalse\u001b[39;00m\n",
      "\u001b[1;31mAttributeError\u001b[0m: 'str' object has no attribute 'stript'"
     ]
    }
   ],
   "source": [
    "#Ejemplo declaracion de variables\n",
    "def controlDatos(**Kwargs):\n",
    "    #Ahora leer los datos\n",
    "    nombre = Kwargs.get('nombre','Desconocido') # segundo valor es por defecto si no esta la clave\n",
    "    edad = Kwargs.get('edad','no especificado')\n",
    "    altura = Kwargs.get('altura','no especificado')\n",
    "    esProgramador = Kwargs('esProgramador', 'no especificado') \n",
    "    print(f\"Hola, me llamo {nombre}, tengo {edad} años y mido {altura}mts \")\n",
    "    \n",
    "def ingresaDatos():\n",
    "    nombre = input(\"Ingresa tu nombre\")\n",
    "    edad = int(input(\"Ingresa tu edad\"))\n",
    "    altura = float(input(\"Ingresa tu altura\"))\n",
    "    esProgramador = True\n",
    "    controlDatos(nombre=nombre,edad=edad,altura=altura,esProgramador=esProgramador)\n",
    "    \n",
    "if __name__ == '__main__':\n",
    "    \n",
    "    while True:\n",
    "        ingresaDatos()\n",
    "        masRegistros = input(\"Desea ingresar mas datos\").strip().lower()\n",
    "        if masRegistros == 's':\n",
    "            False\n",
    "\n",
    "\n",
    "\n",
    "\n",
    "\n"
   ]
  },
  {
   "cell_type": "code",
   "execution_count": 3,
   "id": "30f0e7ec",
   "metadata": {},
   "outputs": [
    {
     "name": "stdout",
     "output_type": "stream",
     "text": [
      "<class 'list'>\n"
     ]
    }
   ],
   "source": [
    "# Se puede reasignar el valor de las variables ya que no es tipado\n",
    "\n",
    "# Assignment variable\n",
    "number = 1\n",
    "number = [\"lista\",\"lista2\"]\n",
    "print(type(number))"
   ]
  }
 ],
 "metadata": {
  "kernelspec": {
   "display_name": "Python 3 (ipykernel)",
   "language": "python",
   "name": "python3"
  },
  "language_info": {
   "codemirror_mode": {
    "name": "ipython",
    "version": 3
   },
   "file_extension": ".py",
   "mimetype": "text/x-python",
   "name": "python",
   "nbconvert_exporter": "python",
   "pygments_lexer": "ipython3",
   "version": "3.11.5"
  }
 },
 "nbformat": 4,
 "nbformat_minor": 5
}
