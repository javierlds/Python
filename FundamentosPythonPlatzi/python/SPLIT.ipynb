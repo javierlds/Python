{
 "cells": [
  {
   "cell_type": "code",
   "execution_count": null,
   "id": "e71a4bc8",
   "metadata": {},
   "outputs": [],
   "source": [
    "'''\n",
    "El método split() en Python es una función de las cadenas (strings) que permite dividir una cadena en una lista de subcadenas, \n",
    "utilizando un delimitador específico. Aquí te explico cómo funciona:\n",
    "string.split(separator, maxsplit)\n",
    "'''\n",
    "\n"
   ]
  },
  {
   "cell_type": "code",
   "execution_count": 12,
   "id": "67ef2501",
   "metadata": {},
   "outputs": [
    {
     "name": "stdout",
     "output_type": "stream",
     "text": [
      "['Especifica el ', 'número máximo', ' de', ' divisiones que', ' se deben ', 'realizar.']\n",
      "['Especifica el ', 'número máximo', ' de, divisiones que, se deben ,realizar.']\n"
     ]
    }
   ],
   "source": [
    "# Ejemplo:\n",
    "frase = \"Especifica el ,número máximo, de, divisiones que, se deben ,realizar.\"\n",
    "palabras1 = frase.split(\",\")\n",
    "palabras = frase.split(\",\",2) #Establece el maximo de comas por el cual dividira\n",
    "print(palabras1)\n",
    "print(palabras)"
   ]
  }
 ],
 "metadata": {
  "kernelspec": {
   "display_name": "Python 3 (ipykernel)",
   "language": "python",
   "name": "python3"
  },
  "language_info": {
   "codemirror_mode": {
    "name": "ipython",
    "version": 3
   },
   "file_extension": ".py",
   "mimetype": "text/x-python",
   "name": "python",
   "nbconvert_exporter": "python",
   "pygments_lexer": "ipython3",
   "version": "3.11.5"
  }
 },
 "nbformat": 4,
 "nbformat_minor": 5
}
