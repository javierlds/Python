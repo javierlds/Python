{
 "cells": [
  {
   "cell_type": "code",
   "execution_count": null,
   "id": "a0fdbafb",
   "metadata": {},
   "outputs": [],
   "source": [
    "'''\n",
    "En python Las listas (definidas con la clase list) son estructuras de datos versatiles y fundamentales para el almacenamiento y la\n",
    "manipulacion de colecciones de elementos ordenados\n",
    "\n",
    "Caracteristicas principales\n",
    "Ordenadas=> Las listas mantienen el orden de insercion de los elementos\n",
    "Mutables => Los elementos de una lista se pueden modificar y eliminar despues de su creacion\n",
    "Heterogeneas => Pueden contener elementos de diferentes tipos de datos\n",
    "Dinamicas => Su tamaño puede aumentar o disminuir de forma automatica segun se agreguen o eliminen elementos\n",
    "\n",
    "Existen dos formas principales para crear listas:\n",
    "'''\n",
    "\n",
    "#Declaracion Explicita\n",
    "mi_lista = [] #lista vacia\n",
    "lista_inicializada = [1,\"hola\",True] #Lista con elementos iniciales\n",
    "\n",
    "#Utilizando constructor\n",
    "lista_rango = list(range(5)) #Lista creada a partir de un rango (0,1,2,3,4)\n",
    "lista_comprension = [x *2 for x in range(5)]"
   ]
  },
  {
   "cell_type": "code",
   "execution_count": null,
   "id": "52fdf9d1",
   "metadata": {},
   "outputs": [],
   "source": [
    "# Listas de comprension en python\n"
   ]
  },
  {
   "cell_type": "code",
   "execution_count": 6,
   "id": "e3d37a24-9462-479b-ac99-ca631c3dbb86",
   "metadata": {},
   "outputs": [
    {
     "name": "stdout",
     "output_type": "stream",
     "text": [
      "[1, 2, 3, 4, 10, 15, 6, 8, 7, 9, 6, 10]\n",
      "tipo:<class 'list'>\n",
      "<class 'list'>\n"
     ]
    }
   ],
   "source": [
    "\"\"\"Puede ser modificada\n",
    "Cada elemento esta separado por una coma Puede contener todo tipo de datos\n",
    "\"\"\"\n",
    "\n",
    "# Declarando nueva lista\n",
    "numeros = [1,2,3,4,10,15,6,8,7,9,6,10]\n",
    "print(numeros)\n",
    "print(\"tipo:\" + str(type(numeros)))\n",
    "\n",
    "#Declarando lista de Strings\n",
    "cadenas1 = [\"banano\",\"platano\",\"manzana\",\"piña\",1,True]\n",
    "print(type(cadenas1))"
   ]
  },
  {
   "cell_type": "code",
   "execution_count": 3,
   "id": "f736ab71-2321-4f4c-87f4-f9e6ac7cada8",
   "metadata": {},
   "outputs": [
    {
     "name": "stdout",
     "output_type": "stream",
     "text": [
      "[1, 2, 3, 4, 10, 15, 6, 8, 7, 9, 6, 10, 78]\n"
     ]
    }
   ],
   "source": [
    "# agregando elementos a la lista\n",
    "numeros2 = [1,2,3,4,10,15,6,8,7,9,6,10]\n",
    "numeros2.append(78)\n",
    "print(numeros2)"
   ]
  },
  {
   "cell_type": "code",
   "execution_count": 6,
   "id": "08a3ba93-8833-4572-8fcc-e1bc9011cd99",
   "metadata": {},
   "outputs": [
    {
     "name": "stdout",
     "output_type": "stream",
     "text": [
      "[1, 'Hola', True]\n",
      "<class 'list'>\n"
     ]
    }
   ],
   "source": [
    "#una lista puede tener varios tipos de datos\n",
    "tipos = [1,\"Hola\", True]\n",
    "print(tipos)\n",
    "print(type(tipos))"
   ]
  },
  {
   "cell_type": "code",
   "execution_count": 2,
   "id": "7bc60600",
   "metadata": {},
   "outputs": [
    {
     "name": "stdout",
     "output_type": "stream",
     "text": [
      "6\n"
     ]
    }
   ],
   "source": [
    "#Para poder imprimir un elemento de la lista\n",
    "numeros2 = [4,6,8,10]\n",
    "print(numeros2[1])"
   ]
  },
  {
   "cell_type": "code",
   "execution_count": 6,
   "id": "01cc18a0",
   "metadata": {},
   "outputs": [
    {
     "name": "stdout",
     "output_type": "stream",
     "text": [
      "barrer\n",
      "limpiar polvo\n"
     ]
    }
   ],
   "source": [
    "#mutando una lista\n",
    "listaTareas = ['lavar', 'barrer','trapear']\n",
    "print(listaTareas[1])\n",
    "\n",
    "listaTareas[0] = 'limpiar polvo'\n",
    "print(listaTareas[0])"
   ]
  },
  {
   "cell_type": "code",
   "execution_count": 7,
   "id": "0ef6406d",
   "metadata": {},
   "outputs": [
    {
     "name": "stdout",
     "output_type": "stream",
     "text": [
      "['arsenal', 'liverpool', 'manchester city', 'roma', 'inter de mila']\n",
      "['arsenal', 'liverpool', 'manchester city', 'roma', 'inter de mila', ['renault', 'mazda', 'chevrolet']]\n"
     ]
    }
   ],
   "source": [
    "#Agregar al ulitmo elemento de la lista\n",
    "listaNueva = ['arsenal','liverpool','manchester city','roma', 'inter de mila']\n",
    "print(listaNueva)\n",
    "listaNueva.append(['renault','mazda','chevrolet'])\n",
    "print(listaNueva)\n"
   ]
  },
  {
   "cell_type": "code",
   "execution_count": 6,
   "id": "8e8b942f",
   "metadata": {},
   "outputs": [
    {
     "name": "stdout",
     "output_type": "stream",
     "text": [
      "Maximo de la lista: 4495686\n",
      "Minimo de la lista: 1\n",
      "Suma de lista: 4504971\n",
      "Conteo de la lista: 11\n",
      "Promedio: 409542.8181818182\n",
      "Lista antes de eliminar: [1, 5, 67, 9000, 4495686, 3, 2, 45, 66, 7, 89]\n",
      "Eliminando indice:  [1, 5, 67, 9000, 4495686, 3, 2, 45, 66, 7]\n"
     ]
    },
    {
     "ename": "NameError",
     "evalue": "name 'listaNumeros' is not defined",
     "output_type": "error",
     "traceback": [
      "\u001b[1;31m---------------------------------------------------------------------------\u001b[0m",
      "\u001b[1;31mNameError\u001b[0m                                 Traceback (most recent call last)",
      "Cell \u001b[1;32mIn[6], line 16\u001b[0m\n\u001b[0;32m     14\u001b[0m \u001b[38;5;66;03m#Eliminando toda la lista\u001b[39;00m\n\u001b[0;32m     15\u001b[0m \u001b[38;5;28;01mdel\u001b[39;00m listaNumeros\n\u001b[1;32m---> 16\u001b[0m \u001b[38;5;28mprint\u001b[39m(\u001b[38;5;124m\"\u001b[39m\u001b[38;5;124mLista: \u001b[39m\u001b[38;5;124m\"\u001b[39m, listaNumeros)\n",
      "\u001b[1;31mNameError\u001b[0m: name 'listaNumeros' is not defined"
     ]
    }
   ],
   "source": [
    "#Maximo, minimo, Conteo, Suma, en una lista\n",
    "listaNumeros =[1,5,67,9000,4495686,3,2,45,66,7,89]\n",
    "print(\"Maximo de la lista:\",max(listaNumeros))\n",
    "print(\"Minimo de la lista:\",min(listaNumeros))\n",
    "print(\"Suma de lista:\", sum(listaNumeros))\n",
    "print(\"Conteo de la lista:\", len(listaNumeros) )\n",
    "conteoLista= len(listaNumeros)\n",
    "suma = sum(listaNumeros)\n",
    "print(\"Promedio:\", (suma/conteoLista))\n",
    "print(\"Lista antes de eliminar:\",listaNumeros)\n",
    "# Eliminndo de la lista\n",
    "del listaNumeros[-1]\n",
    "print(\"Eliminando indice: \", listaNumeros)\n",
    "#Eliminando toda la lista\n",
    "del listaNumeros\n",
    "print(\"Lista: \", listaNumeros)"
   ]
  },
  {
   "cell_type": "code",
   "execution_count": 1,
   "id": "c1da80c2",
   "metadata": {},
   "outputs": [
    {
     "name": "stdout",
     "output_type": "stream",
     "text": [
      "[20, 40, 50, 36, 89, 'pc']\n"
     ]
    },
    {
     "ename": "TypeError",
     "evalue": "insert expected 2 arguments, got 1",
     "output_type": "error",
     "traceback": [
      "\u001b[1;31m---------------------------------------------------------------------------\u001b[0m",
      "\u001b[1;31mTypeError\u001b[0m                                 Traceback (most recent call last)",
      "Cell \u001b[1;32mIn[1], line 4\u001b[0m\n\u001b[0;32m      2\u001b[0m listaNueva1 \u001b[38;5;241m=\u001b[39m [\u001b[38;5;241m20\u001b[39m,\u001b[38;5;241m40\u001b[39m,\u001b[38;5;241m50\u001b[39m,\u001b[38;5;241m36\u001b[39m,\u001b[38;5;241m89\u001b[39m,\u001b[38;5;124m'\u001b[39m\u001b[38;5;124mpc\u001b[39m\u001b[38;5;124m'\u001b[39m]\n\u001b[0;32m      3\u001b[0m \u001b[38;5;28mprint\u001b[39m(listaNueva1)\n\u001b[1;32m----> 4\u001b[0m listaNueva1\u001b[38;5;241m.\u001b[39minsert(\u001b[38;5;28;01mTrue\u001b[39;00m)\n",
      "\u001b[1;31mTypeError\u001b[0m: insert expected 2 arguments, got 1"
     ]
    }
   ],
   "source": [
    "#Agregar un dato en un indice de la lista\n",
    "listaNueva1 = [20,40,50,36,89,'pc']\n",
    "print(listaNueva1)\n",
    "listaNueva1.insert(True)"
   ]
  },
  {
   "cell_type": "code",
   "execution_count": null,
   "id": "2c4bcd3c",
   "metadata": {},
   "outputs": [],
   "source": [
    "#para seleccionar partes del array\n",
    "lista2 = ['caminar', 'correr','saltar']"
   ]
  },
  {
   "cell_type": "code",
   "execution_count": 12,
   "id": "b35009de",
   "metadata": {},
   "outputs": [
    {
     "name": "stdout",
     "output_type": "stream",
     "text": [
      "Lista a: [1, 2, 3, 4, 5]\n",
      "Lista b: [1, 2, 3, 4, 5]\n",
      "Lista a: [2, 3, 4, 5]\n",
      "Lista b: [2, 3, 4, 5]\n",
      "Lista a: [2, 4, 5]\n",
      "Lista b: [2, 4, 5]\n",
      "Lista c: [2, 3, 4, 5]\n",
      "id a=> 2210652268416\n",
      "id b=> 2210652268416\n",
      "id c=> 2210652263424\n",
      "Lista a: [2, 4, 5, 6]\n",
      "Lista b: [2, 4, 5, 6]\n",
      "Lista c: [2, 3, 4, 5]\n"
     ]
    }
   ],
   "source": [
    "# En este ejemplo se podra ver dos variables apuntando a la misma direccion de memoria\n",
    "a = [1,2,3,4,5]\n",
    "b = a\n",
    "print(\"Lista a:\",a)\n",
    "print(\"Lista b:\",b)\n",
    "del a[0]\n",
    "#como apunta a la misma direccion de memoria ambas variables se modifican, para evitar eso usar SLICE\n",
    "print(\"Lista a:\",a)\n",
    "print(\"Lista b:\",b)\n",
    "c = a[:]\n",
    "del a[1]\n",
    "print(\"Lista a:\",a)\n",
    "print(\"Lista b:\",b)\n",
    "print(\"Lista c:\",c)\n",
    "\n",
    "# para ver las direcciones de memoria\n",
    "print(\"id a=>\",id(a))\n",
    "print(\"id b=>\",id(b))\n",
    "print(\"id c=>\",id(c))\n",
    "\n",
    "#ahora agrego en a, pero esto no afectara c , solo b\n",
    "a.append(6)\n",
    "\n",
    "print(\"Lista a:\",a)\n",
    "print(\"Lista b:\",b)\n",
    "print(\"Lista c:\",c)\n",
    "\n"
   ]
  },
  {
   "cell_type": "code",
   "execution_count": 9,
   "id": "8487b2f1",
   "metadata": {},
   "outputs": [
    {
     "name": "stdout",
     "output_type": "stream",
     "text": [
      "Cuantos numeros desea ingresar?, digite la cantidad:4\n"
     ]
    },
    {
     "ename": "TypeError",
     "evalue": "recorreLista() missing 1 required positional argument: 'listaNumeros'",
     "output_type": "error",
     "traceback": [
      "\u001b[1;31m---------------------------------------------------------------------------\u001b[0m",
      "\u001b[1;31mTypeError\u001b[0m                                 Traceback (most recent call last)",
      "Cell \u001b[1;32mIn[9], line 8\u001b[0m\n\u001b[0;32m      6\u001b[0m \u001b[38;5;28;01mif\u001b[39;00m \u001b[38;5;18m__name__\u001b[39m \u001b[38;5;241m==\u001b[39m \u001b[38;5;124m'\u001b[39m\u001b[38;5;124m__main__\u001b[39m\u001b[38;5;124m'\u001b[39m:\n\u001b[0;32m      7\u001b[0m     cantidad \u001b[38;5;241m=\u001b[39m \u001b[38;5;28mint\u001b[39m(\u001b[38;5;28minput\u001b[39m(\u001b[38;5;124m'\u001b[39m\u001b[38;5;124mCuantos numeros desea ingresar?, digite la cantidad:\u001b[39m\u001b[38;5;124m'\u001b[39m))\n\u001b[1;32m----> 8\u001b[0m     recorreLista()\n",
      "\u001b[1;31mTypeError\u001b[0m: recorreLista() missing 1 required positional argument: 'listaNumeros'"
     ]
    }
   ],
   "source": [
    "#Programa que tiene un menu, para que el usuario seleccione la operacion que desea hacer sobre la lista:\n",
    "\n",
    "def recorreLista(lista):\n",
    "    print(\"ingresa funcion\")\n",
    "    \n",
    "def agregarUltimo():\n",
    "    \n",
    "def agregarPrincipio():\n",
    "    \n",
    "\n",
    "if __name__ == '__main__':\n",
    "    menu = ''' Seleccione una opcion:\n",
    "    1. Recorrer lista\n",
    "    2. Agregar ultimo\n",
    "    3. Agregar principio\n",
    "    4. Salir\n",
    "    '''\n",
    "    cantidad = int(input('Cuantos numeros desea ingresar?, digite la cantidad:'))\n",
    "    recorreLista()"
   ]
  }
 ],
 "metadata": {
  "kernelspec": {
   "display_name": "Python 3 (ipykernel)",
   "language": "python",
   "name": "python3"
  },
  "language_info": {
   "codemirror_mode": {
    "name": "ipython",
    "version": 3
   },
   "file_extension": ".py",
   "mimetype": "text/x-python",
   "name": "python",
   "nbconvert_exporter": "python",
   "pygments_lexer": "ipython3",
   "version": "3.11.5"
  }
 },
 "nbformat": 4,
 "nbformat_minor": 5
}
