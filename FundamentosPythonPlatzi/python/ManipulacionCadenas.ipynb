{
 "cells": [
  {
   "cell_type": "code",
   "execution_count": 2,
   "id": "3d69050b",
   "metadata": {},
   "outputs": [
    {
     "name": "stdout",
     "output_type": "stream",
     "text": [
      "<class 'str'>\n"
     ]
    }
   ],
   "source": [
    "nomb = \"Javier\"\n",
    "print(type(nomb))\n"
   ]
  },
  {
   "cell_type": "code",
   "execution_count": 6,
   "id": "5f2ddf7a",
   "metadata": {},
   "outputs": [
    {
     "name": "stdout",
     "output_type": "stream",
     "text": [
      "Carli\n",
      "Carli\n",
      "Carli\n",
      "r\n"
     ]
    }
   ],
   "source": [
    "nomb1= 'Carli'\n",
    "nomb2 = \"Carli\"\n",
    "nomb3 = '''Carli'''\n",
    "print(nomb1)\n",
    "print(nomb2)\n",
    "print(nomb3)\n",
    "print(nomb1[2]) # para ver la posicion de los caracteres\n",
    "\n"
   ]
  },
  {
   "cell_type": "code",
   "execution_count": null,
   "id": "24cf4313",
   "metadata": {},
   "outputs": [],
   "source": []
  }
 ],
 "metadata": {
  "kernelspec": {
   "display_name": "Python 3 (ipykernel)",
   "language": "python",
   "name": "python3"
  },
  "language_info": {
   "codemirror_mode": {
    "name": "ipython",
    "version": 3
   },
   "file_extension": ".py",
   "mimetype": "text/x-python",
   "name": "python",
   "nbconvert_exporter": "python",
   "pygments_lexer": "ipython3",
   "version": "3.11.5"
  }
 },
 "nbformat": 4,
 "nbformat_minor": 5
}
