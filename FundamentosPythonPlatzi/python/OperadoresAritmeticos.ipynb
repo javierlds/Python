{
 "cells": [
  {
   "cell_type": "code",
   "execution_count": 23,
   "id": "85da2799",
   "metadata": {},
   "outputs": [
    {
     "name": "stdout",
     "output_type": "stream",
     "text": [
      "suma =  5\n",
      "resta =  1\n",
      "Multiplicacion =  6\n",
      "Potenciacion =  9\n",
      "Division =  1.5\n",
      "Parte entera de la division =  1\n",
      "Modulo =  1\n",
      "numero impar\n"
     ]
    }
   ],
   "source": [
    "#  TERMINO DE P E M D A S   => PARENTESIS-  EXPONENTS  - MULTIPLY - DIDIVE - ADD - SUBSTRACT: Es el orden de las operaciones\n",
    "# Principales operadores:\n",
    "numero1 = 3\n",
    "numero2 = 2\n",
    "print('suma = ', numero1 + numero2)\n",
    "print('resta = ', numero1 - numero2)\n",
    "print('Multiplicacion = ', numero1 * numero2)\n",
    "print('Potenciacion = ', numero1 ** numero2)\n",
    "print('Division = ', numero1 / numero2)\n",
    "print('Parte entera de la division = ', numero1 // numero2)\n",
    "print('Modulo = ', numero1 % numero2)\n",
    "\n",
    "if numero1%2 != 0:\n",
    "    print('numero impar')\n",
    "else:\n",
    "    print('numero par')"
   ]
  },
  {
   "cell_type": "code",
   "execution_count": 4,
   "id": "bbc3ed09",
   "metadata": {},
   "outputs": [
    {
     "name": "stdout",
     "output_type": "stream",
     "text": [
      "False\n",
      "True\n",
      "False\n",
      "True\n"
     ]
    }
   ],
   "source": [
    "# Operadores booleanos\n",
    "num1 = 4\n",
    "num2 = 8\n",
    "num3 = 9\n",
    "print(num1 > num2)\n",
    "print(num2 < num3)\n",
    "print(num2 == num3)\n",
    "print(num1 != num2)"
   ]
  },
  {
   "cell_type": "code",
   "execution_count": 27,
   "id": "2912faf6",
   "metadata": {},
   "outputs": [
    {
     "name": "stdout",
     "output_type": "stream",
     "text": [
      "20\n",
      "Werid\n"
     ]
    }
   ],
   "source": [
    "#!/bin/python3\n",
    "\n",
    "import math\n",
    "import os\n",
    "import random\n",
    "import re\n",
    "import sys\n",
    "\n",
    "def odd(number):\n",
    "    if number%2 != 0:\n",
    "        print('Weird')\n",
    "\n",
    "def even(number):\n",
    "    if number in range(2,5):\n",
    "        print('Not Weird')\n",
    "    elif number in range(6,20):\n",
    "        \n",
    "        print('Weird')\n",
    "    elif number > 20:\n",
    "        print('Not Weird')\n",
    "    elif number == 20:\n",
    "        print('Werid')\n",
    "    \n",
    "\n",
    "\n",
    "if __name__ == '__main__':\n",
    "    n = int(input().strip())\n",
    "    if n == 0:\n",
    "        odd(n)\n",
    "    elif n%2 != 0:\n",
    "        odd(n)\n",
    "    else:\n",
    "        even(n)\n",
    "        \n",
    "    \n"
   ]
  },
  {
   "cell_type": "code",
   "execution_count": 7,
   "id": "828adf78-5000-4d9b-8b04-087540cf2282",
   "metadata": {},
   "outputs": [
    {
     "name": "stdout",
     "output_type": "stream",
     "text": [
      "la longitud de la cadena \"javierjavierjavier\" es 18\n"
     ]
    }
   ],
   "source": [
    "# utilizando los principales operadores\n",
    "nombre = \"javier\"\n",
    "nombre   *= 3 #pone 3 veces el valor de la variable nombre\n",
    "longitud = f'la longitud de la cadena \"{nombre}\" es {len(nombre)}'\n",
    "print(longitud)"
   ]
  },
  {
   "cell_type": "code",
   "execution_count": 15,
   "id": "6272f174-32de-4bc7-819b-8fba6450ffeb",
   "metadata": {},
   "outputs": [
    {
     "name": "stdin",
     "output_type": "stream",
     "text": [
      "Ingrese primero numero 4\n",
      "ingrese el numero por el cual quiere dividir 56\n"
     ]
    },
    {
     "name": "stdout",
     "output_type": "stream",
     "text": [
      "el total de dividir 4 entre 56 es : 0\n"
     ]
    }
   ],
   "source": [
    "#Capturar solo numero entero en una division\n",
    "while True:\n",
    "    try:\n",
    "        numero1 = int(input(\"Ingrese primero numero\"))\n",
    "        numero2 = int(input(\"ingrese el numero por el cual quiere dividir\"))\n",
    "        total = numero1 // numero2\n",
    "        print(f\"el total de dividir {numero1} entre {numero2} es : {total}\")\n",
    "        break\n",
    "    except ValueError:  #control de excepcion\n",
    "        print(\"Por favor ingrese un numero valido\")"
   ]
  },
  {
   "cell_type": "code",
   "execution_count": 18,
   "id": "81f46dff-881b-42c8-bd57-09064b5718b9",
   "metadata": {},
   "outputs": [
    {
     "name": "stdin",
     "output_type": "stream",
     "text": [
      "Ingresa un numero 3\n",
      "Ingresa el exponencial 56\n"
     ]
    },
    {
     "name": "stdout",
     "output_type": "stream",
     "text": [
      "el numero 3 eleveado a la 56 es igual a: 523347633027360537213511521\n"
     ]
    }
   ],
   "source": [
    "while True: \n",
    "    try: \n",
    "        numero = int(input(\"Ingresa un numero\")) \n",
    "        exponencial = int(input(\"Ingresa el exponencial\")) \n",
    "        total = numero**exponencial \n",
    "        print(f\"el numero {numero} eleveado a la {exponencial} es igual a: {total}\") \n",
    "        break\n",
    "    except ValueError: print('** Por favor ingresa un numero valido ****')"
   ]
  },
  {
   "cell_type": "code",
   "execution_count": null,
   "id": "c656bbd7",
   "metadata": {},
   "outputs": [],
   "source": [
    "# PROGRAMA CALCULADORA"
   ]
  }
 ],
 "metadata": {
  "kernelspec": {
   "display_name": "Python 3 (ipykernel)",
   "language": "python",
   "name": "python3"
  },
  "language_info": {
   "codemirror_mode": {
    "name": "ipython",
    "version": 3
   },
   "file_extension": ".py",
   "mimetype": "text/x-python",
   "name": "python",
   "nbconvert_exporter": "python",
   "pygments_lexer": "ipython3",
   "version": "3.11.5"
  }
 },
 "nbformat": 4,
 "nbformat_minor": 5
}
