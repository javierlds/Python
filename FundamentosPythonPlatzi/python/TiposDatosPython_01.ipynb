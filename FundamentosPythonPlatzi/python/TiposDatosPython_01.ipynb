{
 "cells": [
  {
   "cell_type": "code",
   "execution_count": null,
   "id": "38d0ff94",
   "metadata": {},
   "outputs": [],
   "source": [
    "'''\n",
    "Los tipos de datos en PYTHON SON:\n",
    "int\n",
    "float => Numeros con punto decimal\n",
    "str\n",
    "list => Secuencia de objetos ordenados\n",
    "dict => Desordenado, con clave valor\n",
    "tup => Secuencia de objetos inmutables ordenados\n",
    "set => Coleccion desordenada de objetos unicos \n",
    "bool => verdadero o falso, primea letra debe ir en mayuscula True or False\n",
    "\n",
    "'''"
   ]
  },
  {
   "cell_type": "code",
   "execution_count": null,
   "id": "27a45e49",
   "metadata": {},
   "outputs": [],
   "source": [
    "import tkinter as tk\n",
    "from tkinter import filedialog\n",
    "\n",
    "def guardar():\n",
    "    #Crear la ventana principal de TKINTER(oculta)\n",
    "    root = tk.Tk()\n",
    "    root.withdraw() # ocultar la ventana principal\n",
    "    \n",
    "    #Abrir el dialogo para guardar un archivo\n",
    "    ruta_archivo = filedialog.asksaveasfilename(title = \"Guardar Archivo\",\n",
    "                                               defaultextension =\".txt\",\n",
    "                                               filetypes =[(\"Archivos de texto\",\"*.txt\"),(\"Todos los archivos\",\"*.*\")])\n",
    "    with open(ruta_archivo, 'w') as archivo:\n",
    "        archivo.write(\"valor ejemplo\")\n",
    "\n",
    "#Operaciones basicas\n",
    "def suma(num1,num2):\n",
    "    print(\"La suma es:\",num1 + num2)\n",
    "    valida = str(input(\"Desea guardar los resultados en un archivo?, indique S o N\"))\n",
    "    if valida == 'S'or valida == 'N':\n",
    "        guardar()\n",
    "        \n",
    "            \n",
    "    \n",
    "#def resta(num1,num2):\n",
    "    \n",
    "#def divisionMod(num1,num2):\n",
    "    \n",
    "\n",
    "if __name__ == '__main__':\n",
    "    try: #Con control de excepciones\n",
    "        menu = int(input('''\n",
    "        Seleccione opcion:\n",
    "        1. Suma\n",
    "        2. Resta\n",
    "        3. Multiplicacion\n",
    "        4. Division\n",
    "        5. Potencia\n",
    "        6. Salir\n",
    "        '''))\n",
    "\n",
    "        if menu == 6:\n",
    "            print('Vuelva pronto...')\n",
    "        else:\n",
    "            numero1 = int(input('Ingrese numero 1:'))\n",
    "            numero2 = int(input('Ingrese numero 2:'))\n",
    "            suma(numero1,numero2)\n",
    "    except ValueError:\n",
    "        print('Debe ingresar un numero.')\n",
    "\n",
    "\n",
    "\n",
    "\n"
   ]
  },
  {
   "cell_type": "code",
   "execution_count": 2,
   "id": "04fd3079-884a-413b-9a29-81c80cf9f82f",
   "metadata": {},
   "outputs": [
    {
     "name": "stdout",
     "output_type": "stream",
     "text": [
      "tu edad es: 34 y peso:89\n",
      "tu edad es 34 y peso es 89\n",
      "ingresa numero23\n",
      "Entro\n"
     ]
    }
   ],
   "source": [
    "#Tipo de dato int\n",
    "edad = 34\n",
    "peso = 89\n",
    "print(\"tu edad es: \" + str(edad) + \" y peso:\" + str(peso))  # se utiliza str para poder concatenar un entero dentro de la cadena\n",
    "\n",
    "#usando transformacion de datos sin STR, esto gracias al uso de format\n",
    "print(f'tu edad es {edad} y peso es {peso}')\n",
    "\n",
    "num1 = int(input('ingresa numero'))\n",
    "if num1 > 2:\n",
    "    print('Entro')\n"
   ]
  },
  {
   "cell_type": "code",
   "execution_count": 6,
   "id": "2a9667b0-5367-4e26-a130-899a37f6bcb5",
   "metadata": {},
   "outputs": [
    {
     "name": "stdout",
     "output_type": "stream",
     "text": [
      "digita tu edadf\n",
      "Por favor ingrese solo numeros!\n",
      "digita tu edad56\n",
      "Cuantos años quieres aumentar a tu edad?, digita el valor78\n",
      "tu edad en 78 años sera 134 años\n"
     ]
    }
   ],
   "source": [
    "#utilizando funcion format y transformacion anidada en una sola cadena\n",
    "def ingresaEdad():\n",
    "    while True:\n",
    "        try:\n",
    "            dato = int(input(\"digita tu edad\"))\n",
    "            aumento = int(input(\"Cuantos años quieres aumentar a tu edad?, digita el valor\"))\n",
    "            dato1 = dato + aumento\n",
    "            print(f\"tu edad en {aumento} años sera {dato1} años\")\n",
    "            break\n",
    "        except ValueError:\n",
    "            print(\"Por favor ingrese solo numeros!\")\n",
    "    \n",
    "    \n",
    "if __name__ == \"__main__\":\n",
    "    ingresaEdad()\n",
    "\n",
    "\n"
   ]
  },
  {
   "cell_type": "code",
   "execution_count": 23,
   "id": "28de5112-0f09-42a8-9268-103409f27155",
   "metadata": {},
   "outputs": [
    {
     "name": "stdin",
     "output_type": "stream",
     "text": [
      "digita tu edad RR\n"
     ]
    },
    {
     "name": "stdout",
     "output_type": "stream",
     "text": [
      "Por favor ingrese un numero valido.\n"
     ]
    },
    {
     "name": "stdin",
     "output_type": "stream",
     "text": [
      "digita tu edad 54\n",
      "Cuantos años quieres aumentar a tu edad?, digita el valor RR\n"
     ]
    },
    {
     "name": "stdout",
     "output_type": "stream",
     "text": [
      "Por favor ingrese un numero valido.\n"
     ]
    },
    {
     "name": "stdin",
     "output_type": "stream",
     "text": [
      "digita tu edad 45\n",
      "Cuantos años quieres aumentar a tu edad?, digita el valor 12\n"
     ]
    },
    {
     "name": "stdout",
     "output_type": "stream",
     "text": [
      "tu edad en 12 años sera 57 años\n"
     ]
    }
   ],
   "source": [
    "#Utilizando excepciones para controlar los datos de ingreso con TRY \n",
    "while True:\n",
    "    try:\n",
    "        dato = int(input(\"digita tu edad\"))\n",
    "        aumento = int(input(\"Cuantos años quieres aumentar a tu edad?, digita el valor\"))\n",
    "        dato1 = dato + aumento\n",
    "        print(f\"tu edad en {aumento} años sera {dato1} años\")\n",
    "        break #si no hay errores sale del bucle\n",
    "    except ValueError:\n",
    "        print(\"Por favor ingrese un numero valido.\")"
   ]
  },
  {
   "cell_type": "code",
   "execution_count": 13,
   "id": "df97e390-ce64-48a9-8712-7d1ea2a498d5",
   "metadata": {},
   "outputs": [
    {
     "name": "stdout",
     "output_type": "stream",
     "text": [
      "Vidas iniciando: 5\n",
      "aumento vidas a: 7\n",
      "disminuyendo vidas: 3\n"
     ]
    }
   ],
   "source": [
    "#utilizando += o -=\n",
    "vidas = 5\n",
    "print(f\"Vidas iniciando: {vidas}\")\n",
    "vidas += 2\n",
    "print(f\"aumento vidas a: {vidas}\")\n",
    "vidas -= 4\n",
    "print(f\"disminuyendo vidas: {vidas}\")"
   ]
  },
  {
   "cell_type": "code",
   "execution_count": 16,
   "id": "fe6d5532-9513-4c1a-bc32-b68f60d9ee3b",
   "metadata": {},
   "outputs": [
    {
     "name": "stdout",
     "output_type": "stream",
     "text": [
      "esto es True\n",
      "Tipo de dato:<class 'bool'>\n",
      "el valor ahora es False\n"
     ]
    }
   ],
   "source": [
    "#tipo de dato boolean\n",
    "\n",
    "\n",
    "esVerdad = True  #debe estar con la primera en mayuscula\n",
    "esFalso = False  #debe estar con la primera en mayuscula\n",
    "\n",
    "if esVerdad:\n",
    "    print(\"esto es \" + str(esVerdad))\n",
    "    print(\"Tipo de dato:\" + str(type(esVerdad)))\n",
    "else:\n",
    "    print(\"esto es \" + str(esFalso))\n",
    "\n",
    "#negando el boolean\n",
    "negando1 = not esVerdad\n",
    "print(f\"el valor ahora es {negando1}\")\n",
    "\n"
   ]
  },
  {
   "cell_type": "code",
   "execution_count": 10,
   "id": "1683e028-76d6-4614-a027-bc1c30c7afa3",
   "metadata": {},
   "outputs": [
    {
     "name": "stdin",
     "output_type": "stream",
     "text": [
      "Ingrese el nombre de primer mascota bruno\n"
     ]
    },
    {
     "name": "stdout",
     "output_type": "stream",
     "text": [
      "El tipo de dato es: <class 'str'>\n"
     ]
    }
   ],
   "source": [
    "# Tipo de dato String\n",
    "dato = input(\"Ingrese el nombre de primer mascota\")\n",
    "print(\"El tipo de dato es: \" + str(type(dato)))"
   ]
  }
 ],
 "metadata": {
  "kernelspec": {
   "display_name": "Python 3 (ipykernel)",
   "language": "python",
   "name": "python3"
  },
  "language_info": {
   "codemirror_mode": {
    "name": "ipython",
    "version": 3
   },
   "file_extension": ".py",
   "mimetype": "text/x-python",
   "name": "python",
   "nbconvert_exporter": "python",
   "pygments_lexer": "ipython3",
   "version": "3.11.5"
  }
 },
 "nbformat": 4,
 "nbformat_minor": 5
}
