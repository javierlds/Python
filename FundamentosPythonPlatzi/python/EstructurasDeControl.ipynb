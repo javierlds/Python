{
 "cells": [
  {
   "cell_type": "code",
   "execution_count": 9,
   "id": "c0088184",
   "metadata": {},
   "outputs": [
    {
     "name": "stdout",
     "output_type": "stream",
     "text": [
      "Selecciona una opcion \n",
      "            1. Numero Mayor\n",
      "            2. Numero Menor\n",
      "            3. Inverso Lista\n",
      "            4. Salir  1\n",
      "estoy en :4\n"
     ]
    }
   ],
   "source": [
    "#Uso de IF - ELIF ELSE\n",
    "def numeroMayor():\n",
    "    a = 4\n",
    "    print('estoy en :' + str(a))\n",
    "    \n",
    "def numeroMenor():\n",
    "    b= 5\n",
    "def inversoLista():\n",
    "    c= 7\n",
    "\n",
    "if __name__ == \"__main__\":\n",
    "    while True:\n",
    "        try:\n",
    "            opcion  = int(input('''Selecciona una opcion \n",
    "            1. Numero Mayor\n",
    "            2. Numero Menor\n",
    "            3. Inverso Lista\n",
    "            4. Salir  '''))\n",
    "            match opcion:\n",
    "                case 1:\n",
    "                    numeroMayor()\n",
    "                    break;\n",
    "                case _:\n",
    "                    print('Selecciona una opcion valida')\n",
    "        except ValueError:\n",
    "            print('Debes ingresar un valor numerico')\n",
    "\n",
    "    "
   ]
  },
  {
   "cell_type": "code",
   "execution_count": null,
   "id": "fa26964f",
   "metadata": {},
   "outputs": [],
   "source": []
  }
 ],
 "metadata": {
  "kernelspec": {
   "display_name": "Python 3 (ipykernel)",
   "language": "python",
   "name": "python3"
  },
  "language_info": {
   "codemirror_mode": {
    "name": "ipython",
    "version": 3
   },
   "file_extension": ".py",
   "mimetype": "text/x-python",
   "name": "python",
   "nbconvert_exporter": "python",
   "pygments_lexer": "ipython3",
   "version": "3.11.5"
  }
 },
 "nbformat": 4,
 "nbformat_minor": 5
}
