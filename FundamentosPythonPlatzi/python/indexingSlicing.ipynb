{
 "cells": [
  {
   "cell_type": "code",
   "execution_count": 4,
   "id": "933028f0-0885-4842-8cec-2a333db0008f",
   "metadata": {},
   "outputs": [
    {
     "name": "stdout",
     "output_type": "stream",
     "text": [
      "a\n"
     ]
    }
   ],
   "source": [
    "#Saber las posiciones de los strings\n",
    "text = \"la persona sabe python\"\n",
    "print(text[1])"
   ]
  },
  {
   "cell_type": "code",
   "execution_count": 5,
   "id": "0f3871c1-352f-4f68-8f81-0defffb25348",
   "metadata": {},
   "outputs": [
    {
     "name": "stdout",
     "output_type": "stream",
     "text": [
      "n\n"
     ]
    }
   ],
   "source": [
    "#Saber el ultimo caracter de un texto\n",
    "text2 = \"Esa persona quiere aprender a programar en python\"\n",
    "longitudText = len(text2)\n",
    "print(text2[longitudText-1])"
   ]
  },
  {
   "cell_type": "code",
   "execution_count": 6,
   "id": "83368b88-32b6-4ec7-b439-1587b144d6b8",
   "metadata": {},
   "outputs": [
    {
     "name": "stdout",
     "output_type": "stream",
     "text": [
      "n\n"
     ]
    }
   ],
   "source": [
    "#Saber el ultimo caracter segunda forma, contando la ultima posicion, cuando detecta -1 va desde la ultima posicion del caracter\n",
    "text3 = \"Todos deben aprender python\"\n",
    "print(text3[-1])"
   ]
  },
  {
   "cell_type": "code",
   "execution_count": 16,
   "id": "81951eba-05f7-481b-8fab-47f8af80cb32",
   "metadata": {},
   "outputs": [
    {
     "name": "stdout",
     "output_type": "stream",
     "text": [
      "nohtyp rednerpa nebed sodoT\n",
      "nhy enranbdsdT\n",
      "Tdsdbnarne yhn\n"
     ]
    }
   ],
   "source": [
    "# SLICING : Imprimiendo el texto al reves\n",
    "text4 = \"Todos deben aprender python\"\n",
    "textInvertido1 =  text4[::-1]\n",
    "textInvertido2 =  text4[::-2]  # salto de la cadena invertida cada 2 caracteres\n",
    "texNormal = text4[::2]\n",
    "print(textInvertido1)\n",
    "print(textInvertido2)\n",
    "print(texNormal)"
   ]
  },
  {
   "cell_type": "code",
   "execution_count": 12,
   "id": "b3d50d61-e3a5-4d4d-ad74-ff4421b9062d",
   "metadata": {},
   "outputs": [
    {
     "name": "stdout",
     "output_type": "stream",
     "text": [
      "Python pro\n"
     ]
    }
   ],
   "source": [
    "# Tomando posiciones exactas\n",
    "text5 = \"Python procesa grandes volumenes de informacion\"\n",
    "print(text5[:10]) # si no se pone el primer parametro python entiende que es desde la posicion 0"
   ]
  }
 ],
 "metadata": {
  "kernelspec": {
   "display_name": "Python 3 (ipykernel)",
   "language": "python",
   "name": "python3"
  },
  "language_info": {
   "codemirror_mode": {
    "name": "ipython",
    "version": 3
   },
   "file_extension": ".py",
   "mimetype": "text/x-python",
   "name": "python",
   "nbconvert_exporter": "python",
   "pygments_lexer": "ipython3",
   "version": "3.11.5"
  }
 },
 "nbformat": 4,
 "nbformat_minor": 5
}
