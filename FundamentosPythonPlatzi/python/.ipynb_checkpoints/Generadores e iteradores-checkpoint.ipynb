{
 "cells": [
  {
   "cell_type": "code",
   "execution_count": null,
   "id": "9e9070ac",
   "metadata": {},
   "outputs": [],
   "source": [
    "#Iteradores : iterando cada uno de los elementos sin usar indices:\n",
    "\n"
   ]
  },
  {
   "cell_type": "code",
   "execution_count": 3,
   "id": "96df4032",
   "metadata": {},
   "outputs": [
    {
     "name": "stdout",
     "output_type": "stream",
     "text": [
      "mi iterador: 1\n",
      "mi iterador: 2\n"
     ]
    }
   ],
   "source": [
    "# Ejemplo de iterador\n",
    "\n",
    "#Crear una lista\n",
    "mi_lista = [1,2,3,4]\n",
    "\n",
    "#Obtener el iterador  -> \n",
    "mi_iterador = iter(mi_lista)\n",
    "\n",
    "#Usar el iterador:\n",
    "print(\"mi iterador:\", next(mi_iterador)) # next nos ayuda a ver los valores almacenados en memoria\n",
    "print(\"mi iterador:\", next(mi_iterador))"
   ]
  },
  {
   "cell_type": "code",
   "execution_count": 13,
   "id": "aa5d877e",
   "metadata": {},
   "outputs": [
    {
     "name": "stdout",
     "output_type": "stream",
     "text": [
      "rango range(1, 11, 2)\n",
      "rango: 1\n",
      "rango: 3\n",
      "rango: 5\n",
      "rango: 7\n",
      "rango: 9\n",
      "con iterador: 1\n",
      "con iterador: 3\n",
      "con iterador: 5\n",
      "con iterador: 7\n",
      "con iterador: 9\n"
     ]
    }
   ],
   "source": [
    "# Crear iterador para los numeros impares\n",
    "\n",
    "limit = 10\n",
    "rango = range(1, limit+1,2)\n",
    "print(\"rango\",rango)\n",
    "for num1 in rango:\n",
    "    print(\"rango:\", num1)\n",
    "\n",
    "#limite\n",
    "\n",
    "iterador2 = iter(range(1, limit+1,2))\n",
    "\n",
    "#Usar el iterador\n",
    "for num in iterador2:\n",
    "    print(\"con iterador:\",num)\n"
   ]
  }
 ],
 "metadata": {
  "kernelspec": {
   "display_name": "Python 3 (ipykernel)",
   "language": "python",
   "name": "python3"
  },
  "language_info": {
   "codemirror_mode": {
    "name": "ipython",
    "version": 3
   },
   "file_extension": ".py",
   "mimetype": "text/x-python",
   "name": "python",
   "nbconvert_exporter": "python",
   "pygments_lexer": "ipython3",
   "version": "3.11.5"
  }
 },
 "nbformat": 4,
 "nbformat_minor": 5
}
