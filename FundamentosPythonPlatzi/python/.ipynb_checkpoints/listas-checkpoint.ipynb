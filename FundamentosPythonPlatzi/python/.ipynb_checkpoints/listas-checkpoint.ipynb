{
 "cells": [
  {
   "cell_type": "code",
   "execution_count": null,
   "id": "a0fdbafb",
   "metadata": {},
   "outputs": [],
   "source": [
    "'''\n",
    "En python Las listas (definidas con la clase list) son estructuras de datos versatiles y fundamentales para el almacenamiento y\n",
    "la manipulacion de colecciones de elementos ordenados\n",
    "\n",
    "Caracteristicas principales\n",
    "Ordenadas=> Las listas mantienen el orden de insercion de los elementos\n",
    "Mutables => Los elementos de una lista se pueden modificar y eliminar despues de su creacion\n",
    "Heterogeneas => Pueden contener elementos de diferentes tipos de datos\n",
    "Dinamicas => Su tamaño puede aumentar o disminuir de forma automatica segun se agreguen o eliminen elementos\n",
    "\n",
    "Existen dos formas principales para crear listas:\n",
    "'''\n",
    "\n",
    "#Declaracion Explicita\n",
    "mi_lista = [] #lista vacia\n",
    "lista_inicializada = [1,\"hola\",True] #Lista con elementos iniciales\n",
    "\n",
    "#Utilizando constructor\n",
    "lista_rango = list(range(5)) #Lista creada a partir de un rango (0,1,2,3,4)\n",
    "lista_comprension = [x *2 for x in range(5)]"
   ]
  },
  {
   "cell_type": "code",
   "execution_count": 9,
   "id": "2f6b5550",
   "metadata": {},
   "outputs": [
    {
     "name": "stdout",
     "output_type": "stream",
     "text": [
      "Ingrese el numero de personas que desea ingresar:3\n",
      "Ingrese nombre de personajos\n",
      "Ingrese nombre de personamaria\n",
      "Ingrese nombre de personapedro\n",
      "jos\n",
      "maria\n",
      "pedro\n",
      "total elementos3\n"
     ]
    }
   ],
   "source": [
    "#Creando una lista de nombres\n",
    "'''\n",
    "len => permite saber el total de elementos de la lista\n",
    "'''\n",
    "def almacenaNombres(lista):\n",
    "    lista_nombres = [lista]\n",
    "\n",
    "def recorrerLista(listaLlena):\n",
    "    for nombre in listaLlena:\n",
    "        print(nombre)\n",
    "    print('total elementos'  + str(len(listaLlena)))  \n",
    "    \n",
    "def solicitarDatos():\n",
    "    listaInicial =[]\n",
    "    total_personas= int(input('Ingrese el numero de personas que desea ingresar:'))\n",
    "    try:\n",
    "        for i in range(total_personas):\n",
    "            persona = str(input('Ingrese nombre de persona'))\n",
    "            listaInicial.append(persona)\n",
    "            almacenaNombres(listaInicial)\n",
    "    except ValueError:\n",
    "        print('Entrada no valida. Por favor ingresa un dato valido')\n",
    "    return listaInicial\n",
    "            \n",
    "   \n",
    "\n",
    "if __name__ == '__main__':\n",
    "    listaNombres = solicitarDatos()\n",
    "    if listaNombres:  #Evaluar una lista , si esta llena devuelve TRUE , de lo contrario FALSE\n",
    "        recorrerLista(listaNombres)\n",
    "    \n",
    "    "
   ]
  },
  {
   "cell_type": "code",
   "execution_count": 3,
   "id": "efd37b92",
   "metadata": {},
   "outputs": [
    {
     "name": "stdout",
     "output_type": "stream",
     "text": [
      "Ingrese  numero6988\n",
      " el numero6988 no existe en la lista\n"
     ]
    }
   ],
   "source": [
    "# Buscar en una lista\n",
    "listaNumeros = [6,4,3,23,5,8,9,10,23,45,27,8,29,23,54,65]\n",
    "numeroUsuario = int(input(\"Ingrese  numero\"))\n",
    "if numeroUsuario in listaNumeros:\n",
    "    print(f' el numero{numeroUsuario} existe en la lista')\n",
    "else:\n",
    "    print(f' el numero{numeroUsuario} no existe en la lista')"
   ]
  },
  {
   "cell_type": "code",
   "execution_count": 12,
   "id": "e77c50d3",
   "metadata": {},
   "outputs": [
    {
     "name": "stdout",
     "output_type": "stream",
     "text": [
      "Ingrese  numero1\n",
      "Ingrese  numero3\n",
      "[1, 3]\n",
      "[[1, 3]]\n",
      "gana usuario 1\n"
     ]
    }
   ],
   "source": [
    "# Ejemplo para buscar si las combinaciones coinciden:\n",
    "combinacionPiedraWin = [[1,3]]\n",
    "numeroUsuario1 = int(input(\"Ingrese  numero\"))\n",
    "numeroUsuario2 = int(input(\"Ingrese  numero\"))\n",
    "lista = []\n",
    "lista.append(numeroUsuario1)\n",
    "lista.append(numeroUsuario2)\n",
    "print((lista))\n",
    "print(combinacionPiedraWin)\n",
    "\n",
    "if lista in combinacionPiedraWin:\n",
    "    print('gana usuario 1')\n",
    "    \n"
   ]
  },
  {
   "cell_type": "code",
   "execution_count": 9,
   "id": "f83114f6",
   "metadata": {},
   "outputs": [
    {
     "name": "stdout",
     "output_type": "stream",
     "text": [
      "[3, 4, 5, 6, 8, 8, 9, 10, 23, 23, 23, 27, 29, 45, 54, 65]\n"
     ]
    }
   ],
   "source": [
    "# utilizando funciones para ordenar una lista\n",
    "listaNueva = [6,4,3,23,5,8,9,10,23,45,27,8,29,23,54,65]\n",
    "#listaNueva = list(range(1,29))\n",
    "listaNueva.sort()\n",
    "print(listaNueva)\n",
    "\n",
    "#ordenando en reversa"
   ]
  },
  {
   "cell_type": "code",
   "execution_count": null,
   "id": "52fdf9d1",
   "metadata": {},
   "outputs": [
    {
     "name": "stdout",
     "output_type": "stream",
     "text": [
      "Ingrese valor:4\n",
      "Debe agregar un valor\n"
     ]
    }
   ],
   "source": [
    "# Agregando valores a una lista \n",
    "\n",
    "#def agregaValores():\n",
    "\n",
    "if __name__ == \"__main__\":\n",
    "    try:\n",
    "        while True:\n",
    "            listaUsuario = []\n",
    "            datoUsuario = input('Ingrese valor:')\n",
    "            if datoUsuario: # esto valida que se haya ingresado por lo menos un valor\n",
    "                print('Debe agregar un valor')\n",
    "                validaEntrada1 = input('\\n Desea ingresar valores(S,N)').lower\n",
    "                if validaEntrada != 's':\n",
    "                    break\n",
    "            else:\n",
    "                listaUsuario.append(datoUsuario)\n",
    "                validaEntrada = input('\\n Desea agregar mas valores(S,N)').lower\n",
    "                if validaEntrada != 's':\n",
    "                    break\n",
    "        \n",
    "    except ValueError:\n",
    "        print(\"Error, debe ingresar solo numeros\")\n",
    "            \n"
   ]
  },
  {
   "cell_type": "code",
   "execution_count": null,
   "id": "460043b0",
   "metadata": {},
   "outputs": [],
   "source": [
    "# Eliminando datos de una lista"
   ]
  },
  {
   "cell_type": "code",
   "execution_count": 6,
   "id": "e3d37a24-9462-479b-ac99-ca631c3dbb86",
   "metadata": {},
   "outputs": [
    {
     "name": "stdout",
     "output_type": "stream",
     "text": [
      "[1, 2, 3, 4, 10, 15, 6, 8, 7, 9, 6, 10]\n",
      "tipo:<class 'list'>\n",
      "<class 'list'>\n"
     ]
    }
   ],
   "source": [
    "\"\"\"Puede ser modificada\n",
    "Cada elemento esta separado por una coma Puede contener todo tipo de datos\n",
    "\"\"\"\n",
    "\n",
    "# Declarando nueva lista\n",
    "numeros = [1,2,3,4,10,15,6,8,7,9,6,10]\n",
    "print(numeros)\n",
    "print(\"tipo:\" + str(type(numeros)))\n",
    "\n",
    "#Declarando lista de Strings\n",
    "cadenas1 = [\"banano\",\"platano\",\"manzana\",\"piña\",1,True]\n",
    "print(type(cadenas1))"
   ]
  },
  {
   "cell_type": "code",
   "execution_count": 7,
   "id": "f736ab71-2321-4f4c-87f4-f9e6ac7cada8",
   "metadata": {},
   "outputs": [
    {
     "name": "stdout",
     "output_type": "stream",
     "text": [
      "[1, 2, 3, 4, 10, 15, 6, 8, 7, 9, 6, 10, 78]\n",
      "nombres: ['jose', 'maria', 'pedro', 'catalina', 'angelica', 'jazmin']\n",
      "aleatorio: pedro\n"
     ]
    }
   ],
   "source": [
    "import random\n",
    "# agregando elementos a la lista\n",
    "numeros2 = [1,2,3,4,10,15,6,8,7,9,6,10]\n",
    "numeros2.append(78)\n",
    "print(numeros2)\n",
    "\n",
    "nombres = [\"jose\",\"maria\",\"pedro\",\"catalina\",\"angelica\",\"jazmin\"]\n",
    "print(\"nombres:\", nombres)\n",
    "print(\"aleatorio:\", random.choice(nombres))#Seleccionando aleatorio\n"
   ]
  },
  {
   "cell_type": "code",
   "execution_count": 6,
   "id": "08a3ba93-8833-4572-8fcc-e1bc9011cd99",
   "metadata": {},
   "outputs": [
    {
     "name": "stdout",
     "output_type": "stream",
     "text": [
      "[1, 'Hola', True]\n",
      "<class 'list'>\n"
     ]
    }
   ],
   "source": [
    "#una lista puede tener varios tipos de datos\n",
    "tipos = [1,\"Hola\", True]\n",
    "print(tipos)\n",
    "print(type(tipos))"
   ]
  },
  {
   "cell_type": "code",
   "execution_count": 2,
   "id": "7bc60600",
   "metadata": {},
   "outputs": [
    {
     "name": "stdout",
     "output_type": "stream",
     "text": [
      "6\n"
     ]
    }
   ],
   "source": [
    "#Para poder imprimir un elemento de la lista\n",
    "numeros2 = [4,6,8,10]\n",
    "print(numeros2[1])"
   ]
  },
  {
   "cell_type": "code",
   "execution_count": 6,
   "id": "01cc18a0",
   "metadata": {},
   "outputs": [
    {
     "name": "stdout",
     "output_type": "stream",
     "text": [
      "barrer\n",
      "limpiar polvo\n"
     ]
    }
   ],
   "source": [
    "#mutando una lista\n",
    "listaTareas = ['lavar', 'barrer','trapear']\n",
    "print(listaTareas[1])\n",
    "\n",
    "listaTareas[0] = 'limpiar polvo'\n",
    "print(listaTareas[0])"
   ]
  },
  {
   "cell_type": "code",
   "execution_count": 7,
   "id": "0ef6406d",
   "metadata": {},
   "outputs": [
    {
     "name": "stdout",
     "output_type": "stream",
     "text": [
      "['arsenal', 'liverpool', 'manchester city', 'roma', 'inter de mila']\n",
      "['arsenal', 'liverpool', 'manchester city', 'roma', 'inter de mila', ['renault', 'mazda', 'chevrolet']]\n"
     ]
    }
   ],
   "source": [
    "#Agregar al ulitmo elemento de la lista\n",
    "listaNueva = ['arsenal','liverpool','manchester city','roma', 'inter de mila']\n",
    "print(listaNueva)\n",
    "listaNueva.append(['renault','mazda','chevrolet'])\n",
    "print(listaNueva)\n"
   ]
  },
  {
   "cell_type": "code",
   "execution_count": 10,
   "id": "8e8b942f",
   "metadata": {},
   "outputs": [
    {
     "name": "stdout",
     "output_type": "stream",
     "text": [
      "Maximo de la lista: s\n",
      "Minimo de la lista:  \n"
     ]
    },
    {
     "ename": "TypeError",
     "evalue": "unsupported operand type(s) for +: 'int' and 'str'",
     "output_type": "error",
     "traceback": [
      "\u001b[1;31m---------------------------------------------------------------------------\u001b[0m",
      "\u001b[1;31mTypeError\u001b[0m                                 Traceback (most recent call last)",
      "Cell \u001b[1;32mIn[10], line 5\u001b[0m\n\u001b[0;32m      3\u001b[0m \u001b[38;5;28mprint\u001b[39m(\u001b[38;5;124m\"\u001b[39m\u001b[38;5;124mMaximo de la lista:\u001b[39m\u001b[38;5;124m\"\u001b[39m,\u001b[38;5;28mmax\u001b[39m(listaNumeros))\n\u001b[0;32m      4\u001b[0m \u001b[38;5;28mprint\u001b[39m(\u001b[38;5;124m\"\u001b[39m\u001b[38;5;124mMinimo de la lista:\u001b[39m\u001b[38;5;124m\"\u001b[39m,\u001b[38;5;28mmin\u001b[39m(listaNumeros))\n\u001b[1;32m----> 5\u001b[0m \u001b[38;5;28mprint\u001b[39m(\u001b[38;5;124m\"\u001b[39m\u001b[38;5;124mSuma de lista:\u001b[39m\u001b[38;5;124m\"\u001b[39m, \u001b[38;5;28msum\u001b[39m(listaNumeros))\n\u001b[0;32m      6\u001b[0m \u001b[38;5;28mprint\u001b[39m(\u001b[38;5;124m\"\u001b[39m\u001b[38;5;124mConteo de la lista:\u001b[39m\u001b[38;5;124m\"\u001b[39m, \u001b[38;5;28mlen\u001b[39m(listaNumeros) )\n\u001b[0;32m      7\u001b[0m conteoLista\u001b[38;5;241m=\u001b[39m \u001b[38;5;28mlen\u001b[39m(listaNumeros)\n",
      "\u001b[1;31mTypeError\u001b[0m: unsupported operand type(s) for +: 'int' and 'str'"
     ]
    }
   ],
   "source": [
    "#Maximo, minimo, Conteo, Suma, en una lista\n",
    "listaNumeros =str([1,5,67,9000,4495686,3,2,45,66,7,89,\"paris\"])\n",
    "print(\"Maximo de la lista:\",max(listaNumeros))\n",
    "print(\"Minimo de la lista:\",min(listaNumeros))\n",
    "print(\"Suma de lista:\", sum(listaNumeros))\n",
    "print(\"Conteo de la lista:\", len(listaNumeros) )\n",
    "conteoLista= len(listaNumeros)\n",
    "suma = sum(listaNumeros)\n",
    "print(\"Promedio:\", (suma/conteoLista))\n",
    "print(\"Lista antes de eliminar:\",listaNumeros)\n",
    "# Eliminndo de la lista\n",
    "del listaNumeros[-1]\n",
    "print(\"Eliminando indice: \", listaNumeros)\n",
    "#Eliminando toda la lista\n",
    "del listaNumeros\n",
    "print(\"Lista: \", listaNumeros)"
   ]
  },
  {
   "cell_type": "code",
   "execution_count": 1,
   "id": "c1da80c2",
   "metadata": {},
   "outputs": [
    {
     "name": "stdout",
     "output_type": "stream",
     "text": [
      "[20, 40, 50, 36, 89, 'pc']\n"
     ]
    },
    {
     "ename": "TypeError",
     "evalue": "insert expected 2 arguments, got 1",
     "output_type": "error",
     "traceback": [
      "\u001b[1;31m---------------------------------------------------------------------------\u001b[0m",
      "\u001b[1;31mTypeError\u001b[0m                                 Traceback (most recent call last)",
      "Cell \u001b[1;32mIn[1], line 4\u001b[0m\n\u001b[0;32m      2\u001b[0m listaNueva1 \u001b[38;5;241m=\u001b[39m [\u001b[38;5;241m20\u001b[39m,\u001b[38;5;241m40\u001b[39m,\u001b[38;5;241m50\u001b[39m,\u001b[38;5;241m36\u001b[39m,\u001b[38;5;241m89\u001b[39m,\u001b[38;5;124m'\u001b[39m\u001b[38;5;124mpc\u001b[39m\u001b[38;5;124m'\u001b[39m]\n\u001b[0;32m      3\u001b[0m \u001b[38;5;28mprint\u001b[39m(listaNueva1)\n\u001b[1;32m----> 4\u001b[0m listaNueva1\u001b[38;5;241m.\u001b[39minsert(\u001b[38;5;28;01mTrue\u001b[39;00m)\n",
      "\u001b[1;31mTypeError\u001b[0m: insert expected 2 arguments, got 1"
     ]
    }
   ],
   "source": [
    "#Agregar un dato en un indice de la lista\n",
    "listaNueva1 = [20,40,50,36,89,'pc']\n",
    "print(listaNueva1)\n",
    "listaNueva1.insert(True)"
   ]
  },
  {
   "cell_type": "code",
   "execution_count": null,
   "id": "2c4bcd3c",
   "metadata": {},
   "outputs": [],
   "source": [
    "#para seleccionar partes del array\n",
    "lista2 = ['caminar', 'correr','saltar']"
   ]
  },
  {
   "cell_type": "code",
   "execution_count": 12,
   "id": "b35009de",
   "metadata": {},
   "outputs": [
    {
     "name": "stdout",
     "output_type": "stream",
     "text": [
      "Lista a: [1, 2, 3, 4, 5]\n",
      "Lista b: [1, 2, 3, 4, 5]\n",
      "Lista a: [2, 3, 4, 5]\n",
      "Lista b: [2, 3, 4, 5]\n",
      "Lista a: [2, 4, 5]\n",
      "Lista b: [2, 4, 5]\n",
      "Lista c: [2, 3, 4, 5]\n",
      "id a=> 2210652268416\n",
      "id b=> 2210652268416\n",
      "id c=> 2210652263424\n",
      "Lista a: [2, 4, 5, 6]\n",
      "Lista b: [2, 4, 5, 6]\n",
      "Lista c: [2, 3, 4, 5]\n"
     ]
    }
   ],
   "source": [
    "# En este ejemplo se podra ver dos variables apuntando a la misma direccion de memoria\n",
    "a = [1,2,3,4,5]\n",
    "b = a\n",
    "print(\"Lista a:\",a)\n",
    "print(\"Lista b:\",b)\n",
    "del a[0]\n",
    "#como apunta a la misma direccion de memoria ambas variables se modifican, para evitar eso usar SLICE\n",
    "print(\"Lista a:\",a)\n",
    "print(\"Lista b:\",b)\n",
    "c = a[:]\n",
    "del a[1]\n",
    "print(\"Lista a:\",a)\n",
    "print(\"Lista b:\",b)\n",
    "print(\"Lista c:\",c)\n",
    "\n",
    "# para ver las direcciones de memoria\n",
    "print(\"id a=>\",id(a))\n",
    "print(\"id b=>\",id(b))\n",
    "print(\"id c=>\",id(c))\n",
    "\n",
    "#ahora agrego en a, pero esto no afectara c , solo b\n",
    "a.append(6)\n",
    "\n",
    "print(\"Lista a:\",a)\n",
    "print(\"Lista b:\",b)\n",
    "print(\"Lista c:\",c)\n",
    "\n"
   ]
  },
  {
   "cell_type": "code",
   "execution_count": 9,
   "id": "8487b2f1",
   "metadata": {},
   "outputs": [
    {
     "name": "stdout",
     "output_type": "stream",
     "text": [
      "Cuantos numeros desea ingresar?, digite la cantidad:4\n"
     ]
    },
    {
     "ename": "TypeError",
     "evalue": "recorreLista() missing 1 required positional argument: 'listaNumeros'",
     "output_type": "error",
     "traceback": [
      "\u001b[1;31m---------------------------------------------------------------------------\u001b[0m",
      "\u001b[1;31mTypeError\u001b[0m                                 Traceback (most recent call last)",
      "Cell \u001b[1;32mIn[9], line 8\u001b[0m\n\u001b[0;32m      6\u001b[0m \u001b[38;5;28;01mif\u001b[39;00m \u001b[38;5;18m__name__\u001b[39m \u001b[38;5;241m==\u001b[39m \u001b[38;5;124m'\u001b[39m\u001b[38;5;124m__main__\u001b[39m\u001b[38;5;124m'\u001b[39m:\n\u001b[0;32m      7\u001b[0m     cantidad \u001b[38;5;241m=\u001b[39m \u001b[38;5;28mint\u001b[39m(\u001b[38;5;28minput\u001b[39m(\u001b[38;5;124m'\u001b[39m\u001b[38;5;124mCuantos numeros desea ingresar?, digite la cantidad:\u001b[39m\u001b[38;5;124m'\u001b[39m))\n\u001b[1;32m----> 8\u001b[0m     recorreLista()\n",
      "\u001b[1;31mTypeError\u001b[0m: recorreLista() missing 1 required positional argument: 'listaNumeros'"
     ]
    }
   ],
   "source": [
    "#Programa que tiene un menu, para que el usuario seleccione la operacion que desea hacer sobre la lista:\n",
    "\n",
    "def recorreLista(lista):\n",
    "    print(\"ingresa funcion\")\n",
    "    \n",
    "def agregarUltimo():\n",
    "    \n",
    "def agregarPrincipio():\n",
    "    \n",
    "\n",
    "if __name__ == '__main__':\n",
    "    menu = ''' Seleccione una opcion:\n",
    "    1. Recorrer lista\n",
    "    2. Agregar ultimo\n",
    "    3. Agregar principio\n",
    "    4. Salir\n",
    "    '''\n",
    "    cantidad = int(input('Cuantos numeros desea ingresar?, digite la cantidad:'))\n",
    "    recorreLista()"
   ]
  },
  {
   "cell_type": "code",
   "execution_count": null,
   "id": "7a9882ac",
   "metadata": {},
   "outputs": [],
   "source": [
    "'''\n",
    "Ejercicio 1: Gestor de Tareas con Prioridades\n",
    "📌 Descripción:\n",
    "Crea un gestor de tareas que permita al usuario:\n",
    "✔ Agregar tareas con prioridad (Alta, Media, Baja).\n",
    "✔ Mostrar tareas ordenadas por prioridad.\n",
    "✔ Marcar tareas como completadas.\n",
    "✔ Guardar las tareas en un archivo para su recuperación.\n",
    "'''\n",
    "\n",
    "'''\n",
    "para el desarrollo necesito\n",
    "  tener una lista para prioridad alta\n",
    "  tener una lista para prioridad media\n",
    "  tener una lista para prioridad baja\n",
    "'''\n",
    "\n"
   ]
  }
 ],
 "metadata": {
  "kernelspec": {
   "display_name": "Python 3 (ipykernel)",
   "language": "python",
   "name": "python3"
  },
  "language_info": {
   "codemirror_mode": {
    "name": "ipython",
    "version": 3
   },
   "file_extension": ".py",
   "mimetype": "text/x-python",
   "name": "python",
   "nbconvert_exporter": "python",
   "pygments_lexer": "ipython3",
   "version": "3.11.5"
  }
 },
 "nbformat": 4,
 "nbformat_minor": 5
}
