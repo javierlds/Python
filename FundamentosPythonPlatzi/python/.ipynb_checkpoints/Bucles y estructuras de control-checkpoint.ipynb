{
 "cells": [
  {
   "cell_type": "code",
   "execution_count": 3,
   "id": "f8aa257e",
   "metadata": {},
   "outputs": [
    {
     "name": "stdout",
     "output_type": "stream",
     "text": [
      "Numeros:  1\n",
      "Numeros:  2\n",
      "Numeros:  3\n",
      "Numeros:  4\n",
      "Numeros:  566\n",
      "Numeros:  77\n",
      "Numeros:  8\n",
      "Numeros:  97\n",
      "Numeros:  65\n",
      "Numeros:  4\n",
      "Numeros:  45\n",
      "Numeros:  6\n",
      "Numeros:  544\n",
      "Numeros:  4\n",
      "Numeros:  54\n",
      "este es el valor de i 1\n",
      "este es el valor de i 2\n",
      "este es el valor de i 3\n",
      "este es el valor de i 4\n",
      "este es el valor de i 5\n"
     ]
    }
   ],
   "source": [
    "numeros = [1,2,3,4,566,77,8,97,65,4,45,6,544,4,54]\n",
    "for _ in numeros:\n",
    "    print(\"Numeros: \", _)\n",
    "    \n",
    "for i  in range(1,6):\n",
    "    print(f'este es el valor de i {i}')"
   ]
  },
  {
   "cell_type": "code",
   "execution_count": 7,
   "id": "f6f8b97e",
   "metadata": {},
   "outputs": [
    {
     "name": "stdout",
     "output_type": "stream",
     "text": [
      "{'a': 0, 'e': 0, 'i': 0, 'o': 0, 'u': 0}\n",
      "vocal a total3\n",
      "vocal e total2\n",
      "vocal i total1\n",
      "vocal o total1\n",
      "vocal u total3\n"
     ]
    }
   ],
   "source": [
    "\" Recorriendo y validando las vocales de una cadena de caracteres\"\n",
    "vocales = ['a','e','i','o','u']\n",
    "palabra = \"Javier Augusto Paez Cruz\".lower()\n",
    "conteoVocales = {vocal: 0 for vocal  in vocales}  # inicializando el diccionario con 0 para cada vocal\n",
    "\n",
    "print(conteoVocales)\n",
    "\n",
    "for letra in palabra:\n",
    "    if letra in vocales:\n",
    "        conteoVocales[letra] +=1\n",
    "        \n",
    "        \n",
    "for vocal,total in conteoVocales.items():\n",
    "    print(f'vocal {vocal} total{total}')\n",
    "        \n",
    "        \n",
    "\n",
    "    "
   ]
  },
  {
   "cell_type": "code",
   "execution_count": null,
   "id": "28852fe0",
   "metadata": {},
   "outputs": [],
   "source": [
    "# USO WHILE\n",
    "\n",
    "x = 0\n",
    "while x < 5:\n",
    "    print(\"el valor de x ex: \",x)"
   ]
  }
 ],
 "metadata": {
  "kernelspec": {
   "display_name": "Python 3 (ipykernel)",
   "language": "python",
   "name": "python3"
  },
  "language_info": {
   "codemirror_mode": {
    "name": "ipython",
    "version": 3
   },
   "file_extension": ".py",
   "mimetype": "text/x-python",
   "name": "python",
   "nbconvert_exporter": "python",
   "pygments_lexer": "ipython3",
   "version": "3.11.5"
  }
 },
 "nbformat": 4,
 "nbformat_minor": 5
}
