{
 "cells": [
  {
   "cell_type": "code",
   "execution_count": null,
   "id": "c1d73713",
   "metadata": {},
   "outputs": [],
   "source": [
    "'''\n",
    "La comprensión de listas en Python es una forma concisa y eficiente de crear nuevas listas aplicando una operación a \n",
    "cada elemento de una secuencia (como una lista, tupla o rango), o filtrando elementos según una condición.\n",
    "En lugar de utilizar bucles tradicionales para construir listas, las comprensiones de listas permiten escribir \n",
    "el mismo código de manera más compacta y legible.\n",
    "La sintaxis básica es:\n",
    "[expresión for elemento in iterable if condición]\n",
    "\n",
    "- expresión: Operación o transformación que se aplica a cada elemento.\n",
    "- elemento: Elemento actual que se extrae del iterable.\n",
    "- iterable: La colección de elementos que se recorre (puede ser una lista, tupla, etc.).\n",
    "- condición (opcional): Filtro para incluir solo ciertos elementos.\n",
    "'''"
   ]
  },
  {
   "cell_type": "code",
   "execution_count": null,
   "id": "fbfd9480",
   "metadata": {},
   "outputs": [],
   "source": [
    "#Transpuesta\n",
    "\n",
    "matrix = [[1,2,3],\n",
    "          [4,5,6],\n",
    "          [7,8,9]\n",
    "         ]"
   ]
  },
  {
   "cell_type": "code",
   "execution_count": 1,
   "id": "f5359489",
   "metadata": {},
   "outputs": [
    {
     "name": "stdout",
     "output_type": "stream",
     "text": [
      "ingrese numeros a la lista:5\n",
      "ingrese numeros a la lista:6\n",
      "ingrese numeros a la lista:7\n",
      "ingrese numeros a la lista:12\n",
      "ingrese numeros a la lista:3485\n",
      "ingrese numeros a la lista:975\n",
      "ingrese numeros a la lista:3544\n",
      "ingrese numeros a la lista:68\n",
      "ingrese numeros a la lista:47\n",
      "Valores pares: [6, 12, 68, 3544]\n",
      "Valores impares: [5, 7, 47, 975, 3485]\n",
      "/n\n",
      "Desea intentarlo nuevamente(S/N)?n\n"
     ]
    }
   ],
   "source": [
    "#hallar numeros pares e impares usando compresion de listas\n",
    "def hallaNumeroPar(listaNumeros):\n",
    "    par = [valor for valor in listaNumeros if valor%2 ==0]#Crea una lista solo con los numeros pares\n",
    "    return par        \n",
    "\n",
    "def hallaNumeroImpar(listaNumeros):\n",
    "    impar = [valor for valor in listaNumeros if valor%2 !=0]#crea una lista solo con los numeros impares\n",
    "    return impar\n",
    "\n",
    "if __name__ == \"__main__\":\n",
    "    listaNumeros =[]\n",
    "    while True:\n",
    "        try:\n",
    "            for _ in range(1,10):\n",
    "                lista = int(input(\"ingrese numeros a la lista:\"))\n",
    "                listaNumeros.append(lista)\n",
    "            valoresPares = hallaNumeroPar(listaNumeros)\n",
    "            valoresImpares = hallaNumeroImpar(listaNumeros)\n",
    "            valoresPares.sort()\n",
    "            valoresImpares.sort()\n",
    "            print(\"Valores pares:\",valoresPares)\n",
    "            print(\"Valores impares:\",valoresImpares)\n",
    "            print(\"/n\")\n",
    "            validaIntento = input(\"Desea intentarlo nuevamente(S/N)?\")\n",
    "            if validaIntento.upper == 'S':\n",
    "                True\n",
    "            else:\n",
    "                False\n",
    "                print(\"Gracias.........\")\n",
    "                break\n",
    "        \n",
    "        except ValueError:\n",
    "            print(\"Debe ingresar solo numeros, intente nuevamente\")\n",
    "  \n"
   ]
  },
  {
   "cell_type": "code",
   "execution_count": 17,
   "id": "02db9e0c",
   "metadata": {},
   "outputs": [
    {
     "name": "stdout",
     "output_type": "stream",
     "text": [
      "[]\n",
      "10\n",
      "9\n",
      "8\n",
      "7\n",
      "6\n",
      "5\n",
      "4\n",
      "3\n",
      "2\n",
      "1\n",
      "[18, 17, 16, 15, 14, 13, 12, 11, 10, 9]\n"
     ]
    }
   ],
   "source": [
    "# Ejemplo basico:\n",
    "'''\n",
    "[expresión for elemento in iterable if condición]  => expresion corresponde a la formula que se aplicara a cada elemento\n",
    "'''\n",
    "\n",
    "multiplicando = [x*2 for x in range(1,11,-1)]\n",
    "print(multiplicando)\n",
    "\n",
    "for rango in range(10,0,-1): # para poder hacerlo decrementalmente\n",
    "    print(rango)\n",
    "    \n",
    "#ahora aplicando compresion de listas\n",
    "multi = [x+8 for x in range(10,0,-1) ]\n",
    "print(multi)\n",
    "    \n",
    "    "
   ]
  },
  {
   "cell_type": "code",
   "execution_count": 8,
   "id": "85427ba5",
   "metadata": {},
   "outputs": [
    {
     "name": "stdout",
     "output_type": "stream",
     "text": [
      "Ingrese tamaño de la lista, no debe ser mayor a 10:8\n",
      "Ingrese numero:7\n",
      "Ingrese numero:6\n",
      "Ingrese numero:5\n",
      "Ingrese numero:2\n",
      "Ingrese numero:10\n",
      "Ingrese numero:56\n",
      "Ingrese numero:36\n",
      "Ingrese numero:369\n",
      "Los numeros pares de tu lista son:[6, 2, 10, 56, 36]\n"
     ]
    }
   ],
   "source": [
    "#Ejemplo basico 2\n",
    "# Obtener los numeros pares, impares de una lista que ingrese el usuario\n",
    "lista = []\n",
    "listaPares = []\n",
    "\n",
    "def pares(listaNumeros):\n",
    "    for i in listaNumeros:\n",
    "        if i%2 ==0:\n",
    "            listaPares.append(i) #asi agrego elementos a la lista\n",
    "    print(f'Los numeros pares de tu lista son:{listaPares}')\n",
    "    \n",
    "           \n",
    "if __name__ == \"__main__\":\n",
    "    try:\n",
    "        \n",
    "        tamanoLista = int(input(\"Ingrese tamaño de la lista, no debe ser mayor a 10:\"))\n",
    "        if tamanoLista <= 10:\n",
    "            for i in range(tamanoLista):\n",
    "                numero = int(input(\"Ingrese numero:\"))\n",
    "                lista.append(numero)\n",
    "            pares(lista)\n",
    "        else:\n",
    "            print(\"Tamaño de la lista no valido\")\n",
    "            \n",
    "        \n",
    "    except ValueError:\n",
    "        print(\"Error, solo se admiten numeros\")\n"
   ]
  },
  {
   "cell_type": "code",
   "execution_count": 20,
   "id": "ae34c1b1",
   "metadata": {},
   "outputs": [
    {
     "name": "stdout",
     "output_type": "stream",
     "text": [
      "Ingrese valor6\n"
     ]
    }
   ],
   "source": [
    "# Agregando valores a una lista y luego usar comprension de lista\n",
    "\n",
    "\n",
    "\n",
    "if __name__ == \"__main__\":\n",
    "    listaUsuario = []\n",
    "    datoUsuario = input('Ingrese valor')\n",
    "    listaUsuario.append(datoUsuario)"
   ]
  },
  {
   "cell_type": "code",
   "execution_count": 15,
   "id": "6d03ff82",
   "metadata": {},
   "outputs": [
    {
     "name": "stdout",
     "output_type": "stream",
     "text": [
      "Lugares: ['de Colombia', 'Colombia‘oro verde’Siguiente Buscar Buscar Secciones Activar', 'teatro Musica', 'Clasificados El Tiempo Gen Play Registrarse Siguenos', 'Ultimas Noticias de', 'Colombia', 'MundoSiguenos enWhatsappWhatsappWhatsappFacebookTwitterYoutubeInstagramOpinionColombiaBogotaInternacionalPoliticaJusticiaEconomiaDeportesCulturaTecnologiaVidaUnidad', 'Venezuela', 'P.M.Ministra Susana Muhamad', 'Chingaza', 'Israel', 'Libano', '¿', 'Invias', '¿', 'El Valle', 'Cali', 'Cafe del Mar', 'Bogota', 'Metro de Medellin', 'enfermedadesBogota06:11 P.M.Metro de Bogota', 'P.M.Bus', 'Tribunal de Bogota', 'Colombia', 'Cretacico Superior', 'Bogota', 'Bogota', 'Valle |', 'TIEMPOTe', 'Centro Felicidad de ChapineroSauvage', 'Espana', 'de Colombia', 'EE. UU.', 'Medellin', 'Distrito', 'Cali04:00', 'Calimas Podcast', 'Santander', 'Bogota GenteTenia', 'Futbol Internacional02:23 P.M.Shakira', 'Los Angeles', 'Sitp', 'Bogota', 'Taganga', 'Fiscalia', 'Bravissimo', 'S07', 'Bogota', 'Kazan', 'Rusia', 'Ucrania', 'Barranquilla', 'Mexico', 'Brasil', 'Estados Unidos', 'Canada', 'Francia', 'Inrap', 'TiempoGente02:25 P.M.Mujer', 'Africa', '¿', 'instinto?Los', 'Alcaldia', 'Euro', 'Bolivar', 'Peso mexicano', 'Cafe', 'Tasa', 'Colombia', 'Israel', 'Gaza', 'Libano', 'Iran', 'de Colombia', 'regresarVea', 'Biblioteca de Psicologia', 'Colombia', 'Paraguay', 'sabana de Bogota y', 'Zona Verde', 'sabana de Bogota y', 'Zona Verde de la COP16Mas', 'Medio AmbienteLa', 'Internacional07:47 P.M.Video | Indignacion', 'Paraguay', 'LibertadMedellin06:14 P.M.Video', 'Entrevista', 'Musica', '¿', 'Crepusculo', 'Siguenos', 'Colombia', 'El Empleo Noticias', 'de Colombia']\n"
     ]
    }
   ],
   "source": [
    "'''\n",
    "    Obtener de una pagina web solo las cadenas que tengan maximo 5 caracteres, debe ser texto limpio, sin signos de puntuacion\n",
    "    los numeros se deben almacenar en una lista\n",
    "    los lugares se deben almacenar en otra lista\n",
    "\n",
    "'''\n",
    "'''\n",
    "requests.get(url): Envía una solicitud a la URL y descarga el contenido HTML de la página.\n",
    "BeautifulSoup(response.content, 'html.parser'): Analiza el HTML utilizando el analizador html.parser, \n",
    "poder obtener cada elemento del html , ej h1, p, etc...\n",
    "soup.get_text(): Extrae todo el texto contenido en los elementos de la página web, eliminando las etiquetas HTML.\n",
    "'''\n",
    "import requests\n",
    "import unicodedata # para eliminar tildes y signos de puntuacion\n",
    "import re # modulo de expresiones regulares\n",
    "import spacy # ofrece un conjunto completo de herramientas para el análisis de texto en lenguaje natural.\n",
    "from bs4 import BeautifulSoup\n",
    "\n",
    "# Paso 1: Descargar el contenido de la página web\n",
    "url = 'https://www.eltiempo.com/'  # Sustituye por la URL que quieres analizar\n",
    "response = requests.get(url)\n",
    "\n",
    "# Paso 2: Analizar el HTML usando BeautifulSoup\n",
    "soup = BeautifulSoup(response.content, 'html.parser')\n",
    "\n",
    "# Paso 3: Extraer todo el texto de la página\n",
    "texto_extraido = soup.get_text()\n",
    "\n",
    "# Normalizamos el texto para separar las tildes\n",
    "nuevoTexto = unicodedata.normalize('NFD',texto_extraido )\n",
    "\n",
    "# Filtramos los caracteres que no son de tipo \"Mn\" (marcas no espaciadas, como las tildes)\n",
    "texto_sin_tildes = ''.join(c for c in nuevoTexto if unicodedata.category(c) != 'Mn')\n",
    "'''\n",
    "Explicacion de esta parte del codigo:\n",
    "\n",
    "Supongamos que nuevoTexto = 'rápido'.\n",
    "\n",
    "Normalizamos el texto con unicodedata.normalize('NFD', 'rápido'):\n",
    "    Resultado: 'rápido' (internamente, la á se descompone en a + ´).\n",
    "\n",
    "Luego aplicamos el generador:\n",
    "\n",
    "    Recorre cada carácter en 'rápido':\n",
    "    'r': no es tilde, se incluye.\n",
    "    'a': no es tilde, se incluye.\n",
    "    '´': es tilde (categoría 'Mn'), no se incluye.\n",
    "    'p', 'i', 'd', 'o': todos se incluyen.\n",
    "    \n",
    "    Une los caracteres seleccionados: 'rapido'.\n",
    "'''\n",
    "'''\n",
    "1. Qué es la normalización\n",
    "    La normalización es el proceso de convertir diferentes representaciones de texto en una forma estándar. \n",
    "    En el contexto de Unicode, esto significa que ciertos caracteres pueden ser representados de múltiples maneras.\n",
    "    Por ejemplo, la letra á puede representarse de dos formas:\n",
    "\n",
    "Forma compuesta (NFC): \n",
    "    Un solo carácter á (código Unicode U+00E1).\n",
    "Forma descompuesta (NFD): \n",
    "    Una letra a seguida de un carácter de acento agudo (´) (código Unicode U+0061 para a y U+0301 para el acento).\n",
    "2. Uso de unicodedata.normalize('NFD', ...)\n",
    "Al usar unicodedata.normalize('NFD', 'rápido'), estamos descomponiendo caracteres acentuados en sus componentes básicos.\n",
    "En este caso, á se convierte en a + ´.\n",
    "'''\n",
    "listaSoloNumeros = re.findall(r'\\d+', texto_sin_tildes)\n",
    "listaSoloTexto = texto_sin_tildes.split()\n",
    "   \n",
    "\n",
    "'''\n",
    "re.findall(r'\\d+', texto):\n",
    "    r'\\d+': Esta es una expresión regular.\n",
    "    \\d significa \"cualquier dígito\" (0-9).\n",
    "    + indica que estamos buscando uno o más dígitos consecutivos.\n",
    "    re.findall() busca todas las coincidencias en el texto y devuelve una lista con los resultados.\n",
    "'''\n",
    "\n",
    "# Convertir la lista de texto en un string unificado\n",
    "texto_unificado = ' '.join(listaSoloTexto)\n",
    "\n",
    "# Cargar el modelo de lenguaje\n",
    "nlp = spacy.load('es_core_news_sm')\n",
    "\n",
    "# Procesar el texto unificado\n",
    "doc = nlp(texto_unificado)\n",
    "lugares = [ent.text for ent in doc.ents if ent.label_ == 'LOC' ]\n",
    "\n",
    "print(\"Lugares:\",lugares)\n",
    "#print(\"entidades:\", type(doc.ents))\n",
    "#split(doc.ents)\n",
    "\n",
    "# Mostrar entidades nombradas\n",
    "#for ent in doc.ents:\n",
    " #   print(f\"{ent.text}: {ent.label_}\")\n",
    "\n",
    "# Imprimir el texto extraído\n",
    "#print(texto_sin_tildes)\n",
    "\n",
    "# Imprimir lista de solo numeros\n",
    "#print(listaSoloNumeros)\n",
    "# Imprimir lista de palabras\n",
    "#print(listaSoloTexto)\n",
    "\n",
    "\n",
    "\n"
   ]
  },
  {
   "cell_type": "code",
   "execution_count": 17,
   "id": "693fa5d0",
   "metadata": {},
   "outputs": [
    {
     "name": "stdout",
     "output_type": "stream",
     "text": [
      "Lugares encontrados: ['Colombia', 'Colombia', 'Registrate', 'Venezuela', 'Chingaza', 'Israel', 'Libano', 'Israel', 'Cali', 'Colombia', 'Gane', 'Bogota', 'Francia', 'Espana', 'Distrito', 'Santander', 'Asi', 'Cali', 'TransMilenio', 'Sitp', 'Bogota', 'Taganga', 'Fiscalia', 'Bravissimo', 'Bogota', 'Kazan', 'Rusia', 'Barranquilla', 'Canada', 'Francia', 'Africa', 'Alcaldia', 'Finanzas', 'Tolima', 'Bolivar', 'Colombia', 'Banrep', 'Israel', 'Gaza', 'Iran', 'regresarVea', 'Paraguay', 'Paraguay', 'Entrevista', 'Musica', 'Crepusculo', 'Siguenos', 'Colombia']\n"
     ]
    }
   ],
   "source": [
    "\n",
    "import requests\n",
    "import unicodedata\n",
    "import re\n",
    "import spacy\n",
    "from bs4 import BeautifulSoup\n",
    "\n",
    "# Paso 1: Descargar el contenido de la página web\n",
    "url = 'https://www.eltiempo.com/'  # Sustituye por la URL que quieres analizar\n",
    "response = requests.get(url)\n",
    "\n",
    "# Paso 2: Analizar el HTML usando BeautifulSoup\n",
    "soup = BeautifulSoup(response.content, 'html.parser')\n",
    "\n",
    "# Paso 3: Extraer todo el texto de la página\n",
    "texto_extraido = soup.get_text()\n",
    "\n",
    "# Paso 4: Normalización del texto\n",
    "nuevoTexto = unicodedata.normalize('NFD', texto_extraido)\n",
    "\n",
    "# Paso 5: Eliminar tildes y caracteres de puntuación\n",
    "texto_sin_tildes = ''.join(c for c in nuevoTexto if unicodedata.category(c) != 'Mn')\n",
    "texto_limpio = re.sub(r'[^\\w\\s]', ' ', texto_sin_tildes)  # Elimina caracteres especiales\n",
    "\n",
    "# Paso 6: Separar palabras y números\n",
    "listaSoloTexto = texto_limpio.split()\n",
    "\n",
    "# Cargar el modelo de lenguaje en español\n",
    "nlp = spacy.load('es_core_news_sm')\n",
    "\n",
    "# Procesar el texto\n",
    "doc = nlp(\" \".join(listaSoloTexto))\n",
    "\n",
    "# Filtrar solo los lugares (LOC)\n",
    "lugares = [ent.text.strip() for ent in doc.ents if ent.label_ == 'LOC']\n",
    "\n",
    "# Filtrar posibles falsos positivos\n",
    "lugares_filtrados = [lugar for lugar in lugares if len(lugar) > 1 and lugar.isalpha()]\n",
    "\n",
    "# Imprimir los lugares encontrados\n",
    "print(\"Lugares encontrados:\", lugares_filtrados)"
   ]
  },
  {
   "cell_type": "code",
   "execution_count": 8,
   "id": "e0098964",
   "metadata": {},
   "outputs": [
    {
     "name": "stdout",
     "output_type": "stream",
     "text": [
      "Requirement already satisfied: numpy in c:\\users\\jpaez\\appdata\\local\\anaconda3\\lib\\site-packages (2.1.2)\n",
      "Requirement already satisfied: h5py in c:\\users\\jpaez\\appdata\\local\\anaconda3\\lib\\site-packages (3.12.1)\n"
     ]
    }
   ],
   "source": [
    "!pip install --upgrade numpy h5py --user"
   ]
  },
  {
   "cell_type": "code",
   "execution_count": 3,
   "id": "d9b1d59f",
   "metadata": {},
   "outputs": [
    {
     "name": "stdout",
     "output_type": "stream",
     "text": [
      "Python version: 3.11.5 | packaged by Anaconda, Inc. | (main, Sep 11 2023, 13:26:23) [MSC v.1916 64 bit (AMD64)]\n",
      "Numpy version: 2.0.2\n",
      "h5py version: 3.12.1\n",
      "Spacy version: 3.8.2\n"
     ]
    }
   ],
   "source": [
    "import sys\n",
    "print(\"Python version:\", sys.version)\n",
    "import numpy\n",
    "print(\"Numpy version:\", numpy.__version__)\n",
    "import h5py\n",
    "print(\"h5py version:\", h5py.__version__)\n",
    "import spacy\n",
    "print(\"Spacy version:\", spacy.__version__)"
   ]
  },
  {
   "cell_type": "code",
   "execution_count": 45,
   "id": "dd33e651",
   "metadata": {},
   "outputs": [
    {
     "name": "stdout",
     "output_type": "stream",
     "text": [
      "Elementos lista: 3\n",
      "Rango: range(0, 3)\n",
      "i: 0\n",
      "i: 1\n",
      "i: 2\n",
      "1\n",
      "4\n",
      "7\n",
      "[[1, 4, 7], [2, 5, 8], [3, 6, 9]]\n"
     ]
    }
   ],
   "source": [
    "#Ejemplo con MATRIZ\n",
    "matrix = [[1,2,3],\n",
    "          [4,5,6],\n",
    "          [7,8,9]\n",
    "         ]\n",
    "transposed = [[row[i] for row in matrix] for i in range(len(matrix[0]))]\n",
    "\n",
    "#Explicacion linea a linea:\n",
    "'''\n",
    "La función len() en Python se usa para obtener la longitud de algo. Si lo aplicas a una lista, te dice cuántos elementos \n",
    "tiene esa lista.\n",
    "'''\n",
    "elementosLista = len(matrix[0])\n",
    "rango = range(elementosLista)\n",
    "print(\"Elementos lista:\",elementosLista) #devuelve el numero de elementos de la lista \n",
    "print(\"Rango:\", rango)\n",
    "for i in rango:\n",
    "    print(\"i:\",i)\n",
    "\n",
    "for row in matrix:\n",
    "    print(row[0])\n",
    "\n",
    "transposed2 = [[row[i] for row in matrix] for i in range(len(matrix[0]))]\n",
    "print(transposed2)\n",
    "\n",
    "    \n"
   ]
  },
  {
   "cell_type": "code",
   "execution_count": 2,
   "id": "eb233e7c",
   "metadata": {},
   "outputs": [],
   "source": [
    "#Ejercicio basico\n",
    "'''\n",
    "Analizando datos desde un diccionario\n",
    "'''\n",
    "personas = [\n",
    "    {\"name\": \"Alice\", \"age\": 25},\n",
    "    {\"name\": \"Bob\", \"age\": 14},\n",
    "    {\"name\": \"Charlie\", \"age\": 30}\n",
    "]\n",
    "\n",
    "#determinar quie\n",
    "\n"
   ]
  },
  {
   "cell_type": "code",
   "execution_count": 3,
   "id": "9a777e36",
   "metadata": {},
   "outputs": [
    {
     "name": "stdout",
     "output_type": "stream",
     "text": [
      "Tipo personas: <class 'list'>\n",
      "{'name': 'Isaac', 'age': 32}\n",
      "{'name': 'Eva', 'age': 23}\n",
      "{'name': 'Opal', 'age': 65}\n",
      "{'name': 'Holly', 'age': 100}\n",
      "{'name': 'Thomas', 'age': 87}\n",
      "{'name': 'Kevin', 'age': 54}\n",
      "{'name': 'Mia', 'age': 41}\n",
      "{'name': 'Thomas', 'age': 12}\n",
      "{'name': 'Kevin', 'age': 67}\n",
      "{'name': 'Holly', 'age': 90}\n"
     ]
    }
   ],
   "source": [
    "import random\n",
    "\n",
    "# Generar 100 registros con edades aleatorias\n",
    "personas = []\n",
    "nombres = [\n",
    "    \"Alice\", \"Bob\", \"Charlie\", \"David\", \"Eva\", \"Frank\", \"Grace\", \"Hannah\", \"Isaac\", \"Jasmine\",\n",
    "    \"Kyle\", \"Laura\", \"Mason\", \"Nina\", \"Oscar\", \"Paula\", \"Quentin\", \"Rachel\", \"Sam\", \"Tina\",\n",
    "    \"Ursula\", \"Victor\", \"Wendy\", \"Xander\", \"Yara\", \"Zoe\", \"Adam\", \"Bella\", \"Chris\", \"Diana\",\n",
    "    \"Ethan\", \"Fiona\", \"George\", \"Holly\", \"Ian\", \"Julia\", \"Kevin\", \"Liam\", \"Mia\", \"Noah\",\n",
    "    \"Olivia\", \"Peter\", \"Quinn\", \"Ryan\", \"Sophie\", \"Thomas\", \"Uma\", \"Vera\", \"Will\", \"Xena\",\n",
    "    \"Yasmine\", \"Zane\", \"Amelia\", \"Brandon\", \"Chloe\", \"Derek\", \"Ella\", \"Finn\", \"Gina\", \"Henry\",\n",
    "    \"Isla\", \"Jack\", \"Kara\", \"Leo\", \"Maya\", \"Nathan\", \"Opal\", \"Parker\", \"Quincy\", \"Reese\",\n",
    "    \"Skylar\", \"Tyler\", \"Ulysses\", \"Violet\", \"Wyatt\", \"Zara\"\n",
    "]\n",
    "\n",
    "# Crear personas con edades aleatorias entre 0 y 100\n",
    "for _ in range(100):\n",
    "    persona = {\n",
    "        \"name\": random.choice(nombres),  # Elegir un nombre aleatorio\n",
    "        \"age\": random.randint(0, 100)     # Edad aleatoria entre 0 y 100\n",
    "    }\n",
    "    personas.append(persona)\n",
    "\n",
    "print(\"Tipo personas:\",type(personas))\n",
    "# Mostrar las primeras 10 personas generadas\n",
    "for persona in personas[:10]:\n",
    "    print(persona)"
   ]
  },
  {
   "cell_type": "code",
   "execution_count": 48,
   "id": "601ee884",
   "metadata": {},
   "outputs": [
    {
     "name": "stdout",
     "output_type": "stream",
     "text": [
      "[2, 4, 6, 8, 10]\n"
     ]
    }
   ],
   "source": [
    "# Ejercicio 1\n",
    "'''\n",
    "Dada una lista de números [1, 2, 3, 4, 5], crea una nueva lista que contenga el doble de cada número usando una List \n",
    "Comprehension\n",
    "'''\n",
    "numeros = [1,2,3,4,5]\n",
    "listaDoble =[x*2 for x in numeros]\n",
    "print(listaDoble)"
   ]
  },
  {
   "cell_type": "code",
   "execution_count": 55,
   "id": "9e8a8580",
   "metadata": {},
   "outputs": [
    {
     "name": "stdout",
     "output_type": "stream",
     "text": [
      "['MONTAÑA']\n"
     ]
    }
   ],
   "source": [
    "# Ejercicio 2\n",
    "'''\n",
    "Tienes una lista de palabras [\"sol\", \"mar\", \"montaña\", \"rio\", \"estrella\"] y quieres obtener una nueva lista con las palabras \n",
    "que tengan más de 3 letras y estén en mayúsculas.\n",
    "'''\n",
    "palabras =  [\"sol\", \"mar\", \"MONTAÑA\", \"rio\", \"estrella\"] \n",
    "listaNueva = [pal.upper() for pal in palabras  if len(pal) >3 and pal.upper()==pal ]\n",
    "print(listaNueva)\n"
   ]
  },
  {
   "cell_type": "code",
   "execution_count": 14,
   "id": "9144812a",
   "metadata": {},
   "outputs": [
    {
     "name": "stdout",
     "output_type": "stream",
     "text": [
      "\n",
      "               Que tipo de lista desea crear?\n",
      "               1. Numerica\n",
      "               2. Cadenas\n",
      "               w\n",
      "Debe indicar un valor numerico, por favor vuelva a intentarlo..\n"
     ]
    }
   ],
   "source": [
    "#Ejercicio 3\n",
    "'''\n",
    "Crea una lista con del tamaño que indique el usuario.:\n",
    "Utilizar:\n",
    "-funciones\n",
    "-metodo main\n",
    "- Debe crearse una lista o de solo numeros o solo cadenas.\n",
    "- si la lista es numerica , si es manual solo maximo del 1 al 15 si es automatico debe definir el rango no mayor a 100\n",
    "- si es de solo cadenas, extraer textos de alguna pagina web.\n",
    "\n",
    "de esa lista:\n",
    "NUMERICA\n",
    "- Crea una lista de los cuadrados de los números\n",
    "- Genera una lista que contenga solo los números pares\n",
    "- Filtra una lista de números para que solo contenga aquellos mayores que 5.\n",
    "\n",
    "CADENAS:\n",
    "- Si es una lista de solo cadenas, Crea una lista que contenga las primeras letras de cada palabra en la lista\n",
    "- Crea una lista que contenga el número de caracteres de cada palabra en la lista \n",
    "-Genera una lista con las palabras de una oración pero en mayúsculas. Usa la oración: \"the quick brown fox\"\n",
    "'''\n",
    "\n",
    "def listaNumerica():\n",
    "    \n",
    "def listaString():\n",
    "    \n",
    "\n",
    "if __name__ == \"__main__\":\n",
    "       \n",
    "    try:\n",
    "        while True:\n",
    "            tipoLista = int(input('''\n",
    "               Que tipo de lista desea manipular?\n",
    "               1. Numerica\n",
    "               2. Cadenas\n",
    "               '''))\n",
    "            manAutomatica = int(input('''\n",
    "            Lista manual o automatica?:\n",
    "            1. Manual\n",
    "            2. Automatica\n",
    "            '''))\n",
    "            \n",
    "            \n",
    "            if tipoLista == 1:\n",
    "                \n",
    "            \n",
    "        \n",
    "    except ValueError:\n",
    "        print(\"Debe indicar un valor numerico, por favor vuelva a intentarlo..\")\n",
    "            \n",
    "\n"
   ]
  },
  {
   "cell_type": "code",
   "execution_count": null,
   "id": "1a5e0dbb",
   "metadata": {},
   "outputs": [],
   "source": []
  }
 ],
 "metadata": {
  "kernelspec": {
   "display_name": "Python 3 (ipykernel)",
   "language": "python",
   "name": "python3"
  },
  "language_info": {
   "codemirror_mode": {
    "name": "ipython",
    "version": 3
   },
   "file_extension": ".py",
   "mimetype": "text/x-python",
   "name": "python",
   "nbconvert_exporter": "python",
   "pygments_lexer": "ipython3",
   "version": "3.11.5"
  }
 },
 "nbformat": 4,
 "nbformat_minor": 5
}
