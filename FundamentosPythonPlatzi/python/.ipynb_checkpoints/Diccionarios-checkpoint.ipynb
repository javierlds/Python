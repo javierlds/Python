{
 "cells": [
  {
   "cell_type": "code",
   "execution_count": null,
   "id": "a67cf359",
   "metadata": {},
   "outputs": [],
   "source": [
    "'''\n",
    " los diccionarios en Python. Imagina un diccionario como un libro de cocina: cada receta (clave) tiene una lista de \n",
    " ingredientes y pasos (valor) asociados. En programación, los diccionarios te permiten almacenar pares de clave-valor, \n",
    " donde cada clave es única y apunta a un valor específico\n",
    " \n",
    "Estructura de datos: Es una colección desordenada de elementos.\n",
    "Pares clave-valor: Cada elemento consta de una clave (inmutable, generalmente una cadena o un número) y un valor (cualquier tipo de objeto de Python).\n",
    "Mutable: Puedes agregar, modificar o eliminar elementos después de crear el diccionario.\n",
    "'''\n",
    "\n"
   ]
  },
  {
   "cell_type": "code",
   "execution_count": 3,
   "id": "0e306dfa-bd66-48a8-b293-bc89dafb4757",
   "metadata": {},
   "outputs": [],
   "source": [
    "#Uso de diccionarios en python\n",
    "diccionario = {1:'opcion1',\n",
    "               2:'opcion2',\n",
    "               3:'opcion3'\n",
    "              }\n"
   ]
  },
  {
   "cell_type": "code",
   "execution_count": 6,
   "id": "0ed98a88-5678-475a-9858-308d94fe8754",
   "metadata": {},
   "outputs": [
    {
     "name": "stdout",
     "output_type": "stream",
     "text": [
      "opcion1\n"
     ]
    }
   ],
   "source": [
    "#accediendo a los elementos del diccionario:\n",
    "diccionario = {1:'opcion1',\n",
    "               2:'opcion2',\n",
    "               3:'opcion3'\n",
    "              }\n",
    "\n",
    "#accediendo al valor - se hace a traves de la llave \n",
    "print(diccionario[1])"
   ]
  },
  {
   "cell_type": "code",
   "execution_count": 8,
   "id": "3ab9bbaa",
   "metadata": {},
   "outputs": [
    {
     "name": "stdout",
     "output_type": "stream",
     "text": [
      "dict_keys([1, 2, 3])\n"
     ]
    }
   ],
   "source": [
    "# Metodo KEYS\n",
    "clavesDiccionario = diccionario.keys()\n",
    "print(clavesDiccionario)"
   ]
  },
  {
   "cell_type": "code",
   "execution_count": 11,
   "id": "ce1940b8",
   "metadata": {},
   "outputs": [
    {
     "name": "stdout",
     "output_type": "stream",
     "text": [
      "dict_values(['opcion1', 'opcion2', 'opcion3'])\n"
     ]
    }
   ],
   "source": [
    "# Metodo VALUES\n",
    "valoresDiccionario = diccionario.values()\n",
    "print(valoresDiccionario)"
   ]
  },
  {
   "cell_type": "code",
   "execution_count": 15,
   "id": "f6a3151a",
   "metadata": {},
   "outputs": [
    {
     "name": "stdout",
     "output_type": "stream",
     "text": [
      "<class 'dict_items'>\n",
      "dict_items([(1, 'opcion1'), (2, 'opcion2'), (3, 'opcion3')])\n"
     ]
    }
   ],
   "source": [
    "#Metodo ITEMS\n",
    "claveValorDiccionario = diccionario.items()\n",
    "print(type(claveValorDiccionario))\n",
    "print(claveValorDiccionario)  #Muestra separado por tuplas"
   ]
  },
  {
   "cell_type": "code",
   "execution_count": 27,
   "id": "71394517",
   "metadata": {},
   "outputs": [
    {
     "name": "stdout",
     "output_type": "stream",
     "text": [
      "{'Javier': {'Apellido': 'Paez', 'Altura': 1.75, 'Edad': 36}, 'Alexandra': {'Apellido': 'Santos', 'Altura': 1.6, 'Edad': 90}, 'Catalina': {'Apellido': 'Cruz', 'Altura': 1.7, 'Edad': 30}, 'Jose': {'Apellido': 'Perez', 'Altura': 1.8, 'Edad': 60}}\n",
      "{'Apellido': 'Paez', 'Altura': 1.75, 'Edad': 36}\n",
      "Items: dict_items([('Javier', {'Apellido': 'Paez', 'Altura': 1.75, 'Edad': 36}), ('Alexandra', {'Apellido': 'Santos', 'Altura': 1.6, 'Edad': 90}), ('Catalina', {'Apellido': 'Cruz', 'Altura': 1.7, 'Edad': 30}), ('Jose', {'Apellido': 'Perez', 'Altura': 1.8, 'Edad': 60})])\n",
      "El mayor es: Alexandra con 90 años.\n"
     ]
    }
   ],
   "source": [
    "# Diccionario más complejo\n",
    "contacts = {\n",
    "    \"Javier\": {\"Apellido\": \"Paez\", \"Altura\": 1.75, \"Edad\": 36},\n",
    "    \"Alexandra\": {\"Apellido\": \"Santos\", \"Altura\": 1.60, \"Edad\": 90},\n",
    "    \"Catalina\": {\"Apellido\": \"Cruz\", \"Altura\": 1.70, \"Edad\": 30},\n",
    "    \"Jose\": {\"Apellido\": \"Perez\", \"Altura\": 1.80, \"Edad\": 60}\n",
    "}\n",
    "\n",
    "# Accediendo a todo el diccionario\n",
    "print(contacts)\n",
    "print(contacts[\"Javier\"])\n",
    "print(\"Items:\", contacts.items())\n",
    "\n",
    "# Saber quién es el mayor de todos:\n",
    "mayor = None  # Referencia al mayor contacto se deja en none porque no se ha encontrado el mayor\n",
    "edad_mayor = 0  # Edad del mayor\n",
    "\n",
    "for clave, valor in contacts.items():\n",
    "    if valor[\"Edad\"] > edad_mayor:\n",
    "        edad_mayor = valor[\"Edad\"]\n",
    "        mayor = clave\n",
    "\n",
    "print(\"El mayor es:\", mayor, \"con\", edad_mayor, \"años.\")               \n",
    "\n"
   ]
  },
  {
   "cell_type": "code",
   "execution_count": 8,
   "id": "900f3de5-ed94-45a4-b77c-36837669be0d",
   "metadata": {},
   "outputs": [
    {
     "name": "stdout",
     "output_type": "stream",
     "text": [
      "1\n",
      "2\n",
      "3\n",
      "opcion1\n",
      "opcion2\n",
      "opcion3\n",
      "para la 1 su valor es: opcion1\n",
      "para la 2 su valor es: opcion2\n",
      "para la 3 su valor es: opcion3\n",
      "opcion1\n"
     ]
    }
   ],
   "source": [
    "#Recorriendo un diccionario\n",
    "\n",
    "#imprimiendo las llaves\n",
    "for clave in diccionario.keys():\n",
    "    print(clave)\n",
    "\n",
    "#imprimiendo los valores \n",
    "for clave in diccionario.values():\n",
    "    print(clave)\n",
    "\n",
    "#imprimiendo los valores clave valor\n",
    "for clave,valor in diccionario.items():\n",
    "    print(f'para la {clave} su valor es: {valor}')\n",
    "\n",
    "#imprimiendo un solo valor del diccionario\n",
    "print(diccionario[1])\n"
   ]
  },
  {
   "cell_type": "code",
   "execution_count": 35,
   "id": "ad72ad9b-d6b0-40a0-8806-783cd27068f7",
   "metadata": {},
   "outputs": [
    {
     "name": "stdout",
     "output_type": "stream",
     "text": [
      "7\n"
     ]
    }
   ],
   "source": [
    "#Utilizando opcion random\n",
    "import random\n",
    "valores = [1,2,3,4,5,6,7]\n",
    "valor = random.choice(valores)\n",
    "print(valor)"
   ]
  },
  {
   "cell_type": "code",
   "execution_count": 36,
   "id": "18afb2d2",
   "metadata": {},
   "outputs": [],
   "source": [
    "# Crear un diccionario con 100 registros ficticios ajustando los nombres para incluir combinaciones de nombres y apellidos\n",
    "data_dict_adjusted = [\n",
    "    {\"name\": \"Julián Herrera Rodríguez\", \"age\": 22, \"email\": \"julian.herrera@gmail.com\", \"birth_date\": \"2002-04-15\",\n",
    "     \"address\": \"Calle 19 # 45-78, Bogotá\", \"phone\": \"(320) 123-4567\", \"city\": \"Bogotá\"},\n",
    "    {\"name\": \"Sofía Martínez López\", \"age\": 27, \"email\": \"sofia.martinez@hotmail.com\", \"birth_date\": \"1997-03-22\",\n",
    "     \"address\": \"Carrera 50 # 11-34, Bogotá\", \"phone\": \"(311) 234-5678\", \"city\": \"Bogotá\"},\n",
    "    {\"name\": \"Alejandro Torres Pérez\", \"age\": 35, \"email\": \"alejandro.torres@gmail.com\", \"birth_date\": \"1988-12-05\",\n",
    "     \"address\": \"Avenida 21 # 22-45, Bogotá\", \"phone\": \"(300) 345-6789\", \"city\": \"Bogotá\"},\n",
    "    {\"name\": \"Valentina López García\", \"age\": 30, \"email\": \"valentina.lopez@hotmail.com\", \"birth_date\": \"1994-11-15\",\n",
    "     \"address\": \"Calle 30 # 12-89, Bogotá\", \"phone\": \"(310) 456-7890\", \"city\": \"Bogotá\"},\n",
    "    {\"name\": \"Diego Pérez Martínez\", \"age\": 28, \"email\": \"diego.perez@gmail.com\", \"birth_date\": \"1996-01-30\",\n",
    "     \"address\": \"Calle 77 # 23-90, Bogotá\", \"phone\": \"(313) 567-8901\", \"city\": \"Bogotá\"},\n",
    "    {\"name\": \"Gabriela Ruiz Sánchez\", \"age\": 23, \"email\": \"gabriela.ruiz@hotmail.com\", \"birth_date\": \"2001-08-18\",\n",
    "     \"address\": \"Calle 55 # 34-67, Bogotá\", \"phone\": \"(314) 678-9012\", \"city\": \"Bogotá\"},\n",
    "    {\"name\": \"Manuel Vargas Romero\", \"age\": 19, \"email\": \"manuel.vargas@gmail.com\", \"birth_date\": \"2005-05-05\",\n",
    "     \"address\": \"Avenida 60 # 44-80, Bogotá\", \"phone\": \"(315) 789-0123\", \"city\": \"Bogotá\"},\n",
    "    {\"name\": \"Camila Gómez Torres\", \"age\": 31, \"email\": \"camila.gomez@hotmail.com\", \"birth_date\": \"1993-07-20\",\n",
    "     \"address\": \"Calle 88 # 55-44, Bogotá\", \"phone\": \"(316) 890-1234\", \"city\": \"Bogotá\"},\n",
    "    {\"name\": \"Santiago Castro Fernández\", \"age\": 34, \"email\": \"santiago.castro@gmail.com\", \"birth_date\": \"1989-09-11\",\n",
    "     \"address\": \"Calle 10 # 12-34, Bogotá\", \"phone\": \"(317) 901-2345\", \"city\": \"Bogotá\"},\n",
    "    {\"name\": \"Daniela Morales León\", \"age\": 26, \"email\": \"daniela.morales@hotmail.com\", \"birth_date\": \"1998-02-10\",\n",
    "     \"address\": \"Carrera 70 # 25-50, Bogotá\", \"phone\": \"(318) 012-3456\", \"city\": \"Bogotá\"},\n",
    "    {\"name\": \"José González Mejía\", \"age\": 32, \"email\": \"jose.gonzalez@gmail.com\", \"birth_date\": \"1992-04-25\",\n",
    "     \"address\": \"Avenida 80 # 56-78, Bogotá\", \"phone\": \"(319) 123-4567\", \"city\": \"Bogotá\"},\n",
    "    {\"name\": \"Mariana Sánchez Ríos\", \"age\": 24, \"email\": \"mariana.sanchez@hotmail.com\", \"birth_date\": \"2000-03-30\",\n",
    "     \"address\": \"Calle 90 # 34-12, Bogotá\", \"phone\": \"(320) 234-5678\", \"city\": \"Bogotá\"},\n",
    "    {\"name\": \"Ricardo Mendoza Ortega\", \"age\": 29, \"email\": \"ricardo.mendoza@gmail.com\", \"birth_date\": \"1995-06-14\",\n",
    "     \"address\": \"Carrera 40 # 12-90, Bogotá\", \"phone\": \"(321) 345-6789\", \"city\": \"Bogotá\"},\n",
    "    {\"name\": \"Laura Pérez Díaz\", \"age\": 18, \"email\": \"laura.perez@hotmail.com\", \"birth_date\": \"2006-12-25\",\n",
    "     \"address\": \"Avenida 55 # 78-34, Bogotá\", \"phone\": \"(322) 456-7890\", \"city\": \"Bogotá\"},\n",
    "    {\"name\": \"Sebastián Díaz Castro\", \"age\": 35, \"email\": \"sebastian.diaz@gmail.com\", \"birth_date\": \"1988-11-09\",\n",
    "     \"address\": \"Calle 10 # 11-11, Bogotá\", \"phone\": \"(323) 567-8901\", \"city\": \"Bogotá\"},\n",
    "    {\"name\": \"Isabella Jiménez López\", \"age\": 21, \"email\": \"isabella.jimenez@hotmail.com\", \"birth_date\": \"2003-05-22\",\n",
    "     \"address\": \"Carrera 88 # 22-45, Bogotá\", \"phone\": \"(324) 678-9012\", \"city\": \"Bogotá\"},\n",
    "    {\"name\": \"Tomás Herrera Martínez\", \"age\": 20, \"email\": \"tomas.herrera@gmail.com\", \"birth_date\": \"2004-02-16\",\n",
    "     \"address\": \"Avenida 99 # 11-34, Bogotá\", \"phone\": \"(325) 789-0123\", \"city\": \"Bogotá\"},\n",
    "    {\"name\": \"Paula Arévalo Castro\", \"age\": 26, \"email\": \"paula.arevalo@hotmail.com\", \"birth_date\": \"1998-08-04\",\n",
    "     \"address\": \"Calle 77 # 45-67, Bogotá\", \"phone\": \"(326) 890-1234\", \"city\": \"Bogotá\"},\n",
    "    {\"name\": \"Nicolás Cárdenas Ramos\", \"age\": 28, \"email\": \"nicolas.cardenas@gmail.com\", \"birth_date\": \"1996-06-10\",\n",
    "     \"address\": \"Calle 12 # 32-45, Bogotá\", \"phone\": \"(327) 901-2345\", \"city\": \"Bogotá\"},\n",
    "    {\"name\": \"Camilo Salazar Ruiz\", \"age\": 33, \"email\": \"camilo.salazar@hotmail.com\", \"birth_date\": \"1991-09-28\",\n",
    "     \"address\": \"Avenida 70 # 12-89, Bogotá\", \"phone\": \"(328) 012-3456\", \"city\": \"Bogotá\"},\n",
    "    {\"name\": \"Verónica Ortega Martínez\", \"age\": 25, \"email\": \"veronica.ortega@gmail.com\", \"birth_date\": \"1999-01-01\",\n",
    "     \"address\": \"Calle 44 # 78-90, Bogotá\", \"phone\": \"(329) 123-4567\", \"city\": \"Bogotá\"},\n",
    "    {\"name\": \"Andrés Castro Mendoza\", \"age\": 30, \"email\": \"andres.castro@hotmail.com\", \"birth_date\": \"1994-10-20\",\n",
    "     \"address\": \"Calle 85 # 34-45, Bogotá\", \"phone\": \"(330) 234-5678\", \"city\": \"Bogotá\"},\n",
    "    {\"name\": \"Diana Rojas Ruiz\", \"age\": 34, \"email\": \"diana.rojas@gmail.com\", \"birth_date\": \"1989-07-14\",\n",
    "     \"address\": \"Avenida 19 # 45-34, Bogotá\", \"phone\": \"(331) 345-6789\", \"city\": \"Bogotá\"},\n",
    "    {\"name\": \"Julio Salas Gómez\", \"age\": 22, \"email\": \"julio.salas@hotmail.com\", \"birth_date\": \"2002-05-18\",\n",
    "     \"address\": \"Calle 16 # 89-12, Bogotá\", \"phone\": \"(332) 456-7890\", \"city\": \"Bogotá\"},\n",
    "    {\"name\": \"Cecilia Álvarez Torres\", \"age\": 19, \"email\": \"cecilia.alvarez@gmail.com\", \"birth_date\": \"2005-03-28\",\n",
    "     \"address\": \"Avenida 70 # 34-45, Bogotá\", \"phone\": \"(333) 567-8901\", \"city\": \"Bogotá\"},\n",
    "    {\"name\": \"Gustavo Romero Ruiz\", \"age\": 24, \"email\": \"gustavo.romero@hotmail.com\", \"birth_date\": \"2000-02-12\",\n",
    "     \"address\": \"Calle 45 # 11-90, Bogotá\", \"phone\": \"(334) 678-9012\", \"city\": \"Bogotá\"}]"
   ]
  },
  {
   "cell_type": "code",
   "execution_count": 46,
   "id": "13d88c47",
   "metadata": {},
   "outputs": [
    {
     "name": "stdout",
     "output_type": "stream",
     "text": [
      "sum ages: 695\n",
      "Len ages: 26\n",
      "Promedio: 26.73076923076923\n",
      "Promedio redondeado: 27\n",
      "<class 'list'>\n"
     ]
    }
   ],
   "source": [
    "#Calculando el promedio de edad\n",
    "# como es una lista de diccionarios se debe usar compresion de listas\n",
    "ages = [person[\"age\"] for person in data_dict_adjusted] # recorro la lista de diccionarios almaceno los resultados en person, y en la parte izquierda extraigo el campo age\n",
    "sumAges = sum(ages)\n",
    "lenAges = len(ages)\n",
    "print(\"sum ages:\",sumAges)\n",
    "print(\"Len ages:\",lenAges)\n",
    "promedio = (sumAges/lenAges)\n",
    "print(\"Promedio:\",promedio)\n",
    "print(\"Promedio redondeado:\",round(promedio))\n",
    "print(type(ages))\n"
   ]
  },
  {
   "cell_type": "code",
   "execution_count": 71,
   "id": "04d9350d",
   "metadata": {},
   "outputs": [
    {
     "name": "stdout",
     "output_type": "stream",
     "text": [
      "['gmail.com', 'hotmail.com', 'gmail.com', 'hotmail.com', 'gmail.com', 'hotmail.com', 'gmail.com', 'hotmail.com', 'gmail.com', 'hotmail.com', 'gmail.com', 'hotmail.com', 'gmail.com', 'hotmail.com', 'gmail.com', 'hotmail.com', 'gmail.com', 'hotmail.com', 'gmail.com', 'hotmail.com', 'gmail.com', 'hotmail.com', 'gmail.com', 'hotmail.com', 'gmail.com', 'hotmail.com']\n",
      "Counter({'gmail.com': 13, 'hotmail.com': 13})\n"
     ]
    }
   ],
   "source": [
    "from collections import Counter\n",
    "#Contando cual es el dominio que mas se usa\n",
    "dominios =[email[\"email\"].split('@')[1] for email in data_dict_adjusted]\n",
    "contador_dominios = Counter(dominios)\n",
    "#agrupacion = correos.most_common()\n",
    "print(dominios)\n",
    "print(contador_dominios)\n",
    "\n"
   ]
  },
  {
   "cell_type": "code",
   "execution_count": 54,
   "id": "014839ee",
   "metadata": {},
   "outputs": [
    {
     "name": "stdout",
     "output_type": "stream",
     "text": [
      "<built-in method split of str object at 0x000001DA4F63E380>\n",
      "gmail.com\n",
      "Con uso de split  ['javierlds', 'gmail.com']\n",
      "<class 'list'>\n"
     ]
    }
   ],
   "source": [
    "correo = \"javierlds@gmail.com\"\n",
    "# Usar split para dividir la cadena por el carácter '@'\n",
    "dominio = correo.split('@')\n",
    "print(correo.split)\n",
    "print(correo.split('@')[1]) #Extrayendo el dominio como el resultado de un split es una lista se accede al indice que se necesita\n",
    "print(\"Con uso de split \",dominio) \n",
    "print(type(dominio))  # Salida: gmail.com"
   ]
  }
 ],
 "metadata": {
  "kernelspec": {
   "display_name": "Python 3 (ipykernel)",
   "language": "python",
   "name": "python3"
  },
  "language_info": {
   "codemirror_mode": {
    "name": "ipython",
    "version": 3
   },
   "file_extension": ".py",
   "mimetype": "text/x-python",
   "name": "python",
   "nbconvert_exporter": "python",
   "pygments_lexer": "ipython3",
   "version": "3.11.5"
  }
 },
 "nbformat": 4,
 "nbformat_minor": 5
}
