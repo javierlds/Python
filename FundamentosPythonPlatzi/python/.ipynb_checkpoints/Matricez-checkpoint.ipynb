{
 "cells": [
  {
   "cell_type": "code",
   "execution_count": 6,
   "id": "008e4f8a",
   "metadata": {},
   "outputs": [
    {
     "name": "stdout",
     "output_type": "stream",
     "text": [
      "3\n"
     ]
    }
   ],
   "source": [
    "#creando matricez, son dato MUTABLES\n",
    "'''\n",
    "se puede añadir informacion, eliminar, tienen las mismas propiedades de las listas\n",
    "'''\n",
    "\n",
    "matrix =[\n",
    "    [1,2,3],\n",
    "    [4,5,6]    \n",
    "]\n",
    "\n",
    "print(matrix[0][2])"
   ]
  },
  {
   "cell_type": "code",
   "execution_count": 7,
   "id": "0c0bf9bc",
   "metadata": {},
   "outputs": [
    {
     "name": "stdout",
     "output_type": "stream",
     "text": [
      "13\n"
     ]
    }
   ],
   "source": [
    "#Matriz con otra dimension\n",
    "matrix2 =[\n",
    "    [1,2,3],\n",
    "    [4,5,6],    \n",
    "    [7,8,9],\n",
    "    [[12,13],5]  # otra dimension adicional\n",
    "]\n",
    "#print(matrix2)\n",
    "print(matrix2[3][0][1])  #aqui accedo al valor de la sublista"
   ]
  },
  {
   "cell_type": "code",
   "execution_count": 10,
   "id": "6db8af94",
   "metadata": {},
   "outputs": [
    {
     "name": "stdout",
     "output_type": "stream",
     "text": [
      "<class 'tuple'>\n"
     ]
    }
   ],
   "source": [
    "# TUPLAS  => son inmutables no podemos hacer modificaciones, se usan principalmente para tener datos constantes\n",
    "\n",
    "numeros = (1,2,3,4,5)\n",
    "print(type(numeros))"
   ]
  }
 ],
 "metadata": {
  "kernelspec": {
   "display_name": "Python 3 (ipykernel)",
   "language": "python",
   "name": "python3"
  },
  "language_info": {
   "codemirror_mode": {
    "name": "ipython",
    "version": 3
   },
   "file_extension": ".py",
   "mimetype": "text/x-python",
   "name": "python",
   "nbconvert_exporter": "python",
   "pygments_lexer": "ipython3",
   "version": "3.11.5"
  }
 },
 "nbformat": 4,
 "nbformat_minor": 5
}
