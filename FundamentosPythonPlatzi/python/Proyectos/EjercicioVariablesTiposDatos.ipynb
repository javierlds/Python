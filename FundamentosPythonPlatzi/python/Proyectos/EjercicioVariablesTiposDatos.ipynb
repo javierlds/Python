{
 "cells": [
  {
   "cell_type": "code",
   "execution_count": 37,
   "id": "aaf2fa42",
   "metadata": {},
   "outputs": [
    {
     "name": "stdout",
     "output_type": "stream",
     "text": [
      "inicio ingresaDatos:s\n",
      "Ingresa tu nombre:javier\n",
      "Ingresa tu edad34\n",
      "Tu Nombre es javier tienes una edad de 34 años y has vivido 12410 dias \n",
      "Deseas ingresar mas datos?s\n",
      "inicio ingresaDatos:s\n",
      "Ingresa tu nombre:alexa\n",
      "Ingresa tu edad58\n",
      "Tu Nombre es alexa tienes una edad de 58 años y has vivido 21170 dias \n",
      "Deseas ingresar mas datos?n\n"
     ]
    }
   ],
   "source": [
    "'''\n",
    "Crea un programa en Python que haga lo siguiente:\n",
    "\n",
    "Solicite al usuario su nombre y edad.\n",
    "Muestre un mensaje con su información usando f-strings.\n",
    "Convierte la edad a número entero y calcula cuántos días ha vivido aproximadamente (edad × 365).\n",
    "'''\n",
    "\n",
    "def solicitaInfo():\n",
    "    try:\n",
    "        nombre = input('Ingresa tu nombre:')\n",
    "        edad = int(input('Ingresa tu edad'))\n",
    "        conversionEdad(nombre = nombre,edad = edad)\n",
    "    except ValueError:\n",
    "        print('Debe ingresar un dato correcto')\n",
    "    \n",
    "def conversionEdad(**Kwargs):\n",
    "    calculoEdad = 0\n",
    "     #lectura de datos\n",
    "    nombre = Kwargs.get('nombre','no especificado')\n",
    "    edad = Kwargs.get('edad', 0) # asegurando que se maneje numero\n",
    "    calculoEdad = edad * 365\n",
    "    print(f'Tu Nombre es {nombre} tienes una edad de {edad} años y has vivido {calculoEdad} dias ')\n",
    "    \n",
    "if __name__ == '__main__':\n",
    "    ingresaDatos = 's'\n",
    "    while True:\n",
    "        print('inicio ingresaDatos:' + ingresaDatos)\n",
    "        if ingresaDatos == 's':\n",
    "            solicitaInfo() \n",
    "            \n",
    "        ingresaDatos = input('Deseas ingresar mas datos?')\n",
    "        if ingresaDatos.strip().lower() == 'n':\n",
    "            break\n",
    "        elif ingresaDatos.strip().lower() not in['s','n']:\n",
    "            print('Dato invalido')\n",
    "    \n",
    "        \n",
    "          \n",
    "\n",
    "    \n"
   ]
  }
 ],
 "metadata": {
  "kernelspec": {
   "display_name": "Python 3 (ipykernel)",
   "language": "python",
   "name": "python3"
  },
  "language_info": {
   "codemirror_mode": {
    "name": "ipython",
    "version": 3
   },
   "file_extension": ".py",
   "mimetype": "text/x-python",
   "name": "python",
   "nbconvert_exporter": "python",
   "pygments_lexer": "ipython3",
   "version": "3.11.5"
  }
 },
 "nbformat": 4,
 "nbformat_minor": 5
}
