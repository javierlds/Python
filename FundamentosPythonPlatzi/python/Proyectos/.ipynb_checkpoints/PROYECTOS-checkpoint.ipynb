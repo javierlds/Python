{
 "cells": [
  {
   "cell_type": "code",
   "execution_count": null,
   "id": "e27116ad",
   "metadata": {},
   "outputs": [],
   "source": [
    "#Programa que recibe una lista de numeros y devuevle el numero mayor\n",
    "\n",
    "def recorreLista(listaNumeros)\n",
    "    print(\"ingresa funcion\")\n",
    "\n",
    "if __name__ == '__main__':\n",
    "    cantidad = int(input('Cuantos numeros desea ingresar?, digite la cantidad:'))\n",
    "    recorreLista()\n",
    "\n"
   ]
  }
 ],
 "metadata": {
  "kernelspec": {
   "display_name": "Python 3 (ipykernel)",
   "language": "python",
   "name": "python3"
  },
  "language_info": {
   "codemirror_mode": {
    "name": "ipython",
    "version": 3
   },
   "file_extension": ".py",
   "mimetype": "text/x-python",
   "name": "python",
   "nbconvert_exporter": "python",
   "pygments_lexer": "ipython3",
   "version": "3.11.5"
  }
 },
 "nbformat": 4,
 "nbformat_minor": 5
}
